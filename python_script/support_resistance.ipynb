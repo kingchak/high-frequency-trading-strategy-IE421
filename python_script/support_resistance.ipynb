{
 "cells": [
  {
   "cell_type": "markdown",
   "metadata": {
    "id": "LA9u_nsSmS_F"
   },
   "source": [
    "# Packages"
   ]
  },
  {
   "cell_type": "code",
   "execution_count": 35,
   "metadata": {
    "colab": {
     "base_uri": "https://localhost:8080/"
    },
    "id": "000gIFm0Is64",
    "outputId": "956e0c9d-1f2c-472c-9342-c72646f27b99"
   },
   "outputs": [],
   "source": [
    "#!pip install yfinance\n",
    "import numpy as np\n",
    "import pandas as pd\n",
    "import yfinance as yf\n",
    "import datetime\n",
    "import plotly.graph_objects as go \n",
    "import matplotlib.pyplot as plt\n",
    "from plotly.subplots import make_subplots\n",
    "import plotly"
   ]
  },
  {
   "cell_type": "markdown",
   "metadata": {
    "id": "aGEoDjzJmWUH"
   },
   "source": [
    "# Yahoo Finance OHLC DataFrame"
   ]
  },
  {
   "cell_type": "code",
   "execution_count": 36,
   "metadata": {
    "colab": {
     "base_uri": "https://localhost:8080/"
    },
    "id": "gOnFBVAVI5dd",
    "outputId": "25aa2950-f6ad-4b9d-97ed-b6e42f7c64a1",
    "scrolled": true
   },
   "outputs": [
    {
     "name": "stdout",
     "output_type": "stream",
     "text": [
      "[*********************100%***********************]  1 of 1 completed\n"
     ]
    }
   ],
   "source": [
    "stock = 'SPY'\n",
    "df= yf.download(stock, '2020-10-31', '2022-10-31') \n"
   ]
  },
  {
   "cell_type": "code",
   "execution_count": 37,
   "metadata": {
    "colab": {
     "base_uri": "https://localhost:8080/",
     "height": 206
    },
    "id": "khi7f3CjJBNt",
    "outputId": "6f98918b-f716-46bd-b8aa-2e5dff7834f5"
   },
   "outputs": [
    {
     "data": {
      "text/html": [
       "<div>\n",
       "<style scoped>\n",
       "    .dataframe tbody tr th:only-of-type {\n",
       "        vertical-align: middle;\n",
       "    }\n",
       "\n",
       "    .dataframe tbody tr th {\n",
       "        vertical-align: top;\n",
       "    }\n",
       "\n",
       "    .dataframe thead th {\n",
       "        text-align: right;\n",
       "    }\n",
       "</style>\n",
       "<table border=\"1\" class=\"dataframe\">\n",
       "  <thead>\n",
       "    <tr style=\"text-align: right;\">\n",
       "      <th></th>\n",
       "      <th>Date</th>\n",
       "      <th>Open</th>\n",
       "      <th>High</th>\n",
       "      <th>Low</th>\n",
       "      <th>Close</th>\n",
       "      <th>Adj Close</th>\n",
       "      <th>Volume</th>\n",
       "    </tr>\n",
       "  </thead>\n",
       "  <tbody>\n",
       "    <tr>\n",
       "      <th>0</th>\n",
       "      <td>2020-11-02 00:00:00-05:00</td>\n",
       "      <td>330.200012</td>\n",
       "      <td>332.359985</td>\n",
       "      <td>327.239990</td>\n",
       "      <td>330.200012</td>\n",
       "      <td>320.759491</td>\n",
       "      <td>86068300</td>\n",
       "    </tr>\n",
       "    <tr>\n",
       "      <th>1</th>\n",
       "      <td>2020-11-03 00:00:00-05:00</td>\n",
       "      <td>333.690002</td>\n",
       "      <td>338.250000</td>\n",
       "      <td>330.290009</td>\n",
       "      <td>336.029999</td>\n",
       "      <td>326.422821</td>\n",
       "      <td>93294200</td>\n",
       "    </tr>\n",
       "    <tr>\n",
       "      <th>2</th>\n",
       "      <td>2020-11-04 00:00:00-05:00</td>\n",
       "      <td>340.859985</td>\n",
       "      <td>347.940002</td>\n",
       "      <td>339.589996</td>\n",
       "      <td>343.540009</td>\n",
       "      <td>333.718079</td>\n",
       "      <td>126959700</td>\n",
       "    </tr>\n",
       "    <tr>\n",
       "      <th>3</th>\n",
       "      <td>2020-11-05 00:00:00-05:00</td>\n",
       "      <td>349.239990</td>\n",
       "      <td>352.190002</td>\n",
       "      <td>348.859985</td>\n",
       "      <td>350.239990</td>\n",
       "      <td>340.226501</td>\n",
       "      <td>82039700</td>\n",
       "    </tr>\n",
       "    <tr>\n",
       "      <th>4</th>\n",
       "      <td>2020-11-06 00:00:00-05:00</td>\n",
       "      <td>349.929993</td>\n",
       "      <td>351.510010</td>\n",
       "      <td>347.649994</td>\n",
       "      <td>350.160004</td>\n",
       "      <td>340.148804</td>\n",
       "      <td>74973000</td>\n",
       "    </tr>\n",
       "  </tbody>\n",
       "</table>\n",
       "</div>"
      ],
      "text/plain": [
       "                       Date        Open        High         Low       Close  \\\n",
       "0 2020-11-02 00:00:00-05:00  330.200012  332.359985  327.239990  330.200012   \n",
       "1 2020-11-03 00:00:00-05:00  333.690002  338.250000  330.290009  336.029999   \n",
       "2 2020-11-04 00:00:00-05:00  340.859985  347.940002  339.589996  343.540009   \n",
       "3 2020-11-05 00:00:00-05:00  349.239990  352.190002  348.859985  350.239990   \n",
       "4 2020-11-06 00:00:00-05:00  349.929993  351.510010  347.649994  350.160004   \n",
       "\n",
       "    Adj Close     Volume  \n",
       "0  320.759491   86068300  \n",
       "1  326.422821   93294200  \n",
       "2  333.718079  126959700  \n",
       "3  340.226501   82039700  \n",
       "4  340.148804   74973000  "
      ]
     },
     "execution_count": 37,
     "metadata": {},
     "output_type": "execute_result"
    }
   ],
   "source": [
    "df.reset_index( inplace = True)\n",
    "df.head()"
   ]
  },
  {
   "cell_type": "markdown",
   "metadata": {
    "id": "eUKgm_3Cmd2A"
   },
   "source": [
    "# Support/Resistance Detection"
   ]
  },
  {
   "cell_type": "code",
   "execution_count": 38,
   "metadata": {
    "id": "LbxCjH3hJtiU"
   },
   "outputs": [],
   "source": [
    "def support(df, index, n1, n2):\n",
    "    # n1 (n2) candle before (after) the index candle resp.\n",
    "    # a function to test whether the index candle is support or not\n",
    "    for i in range(index - n1 + 1, index + 1):\n",
    "        if( df['Low'][i] > df['Low'][i-1]):\n",
    "            return False\n",
    "    for i in range(index+1, index + n2 + 1):\n",
    "        if( df['Low'][i] < df['Low'][i-1] ):\n",
    "            return False\n",
    "    \n",
    "    return True"
   ]
  },
  {
   "cell_type": "code",
   "execution_count": 39,
   "metadata": {
    "id": "B4wBeWf42zx7"
   },
   "outputs": [],
   "source": [
    "def resistance(df, index, n1, n2):\n",
    "    # a function to test whether the index candle is resistance or not\n",
    "    \n",
    "    for i in range(index-n1+1, index+1):\n",
    "        if(df['High'][i] < df['High'][i-1]):\n",
    "            return False\n",
    "    for i in range(index + 1, index + n2 + 1):\n",
    "        if(df['High'][i] > df['High'][i-1]):\n",
    "            return False\n",
    "    \n",
    "    return True\n"
   ]
  },
  {
   "cell_type": "code",
   "execution_count": 40,
   "metadata": {
    "colab": {
     "base_uri": "https://localhost:8080/"
    },
    "id": "dQKddKXDPr32",
    "outputId": "aadf6786-a0a1-4a23-d1a5-b59c01c53f51"
   },
   "outputs": [
    {
     "name": "stdout",
     "output_type": "stream",
     "text": [
      "[(28, 363.260009765625, 0), (34, 362.0299987792969, 0), (42, 364.82000732421875, 0), (79, 378.2300109863281, 0), (83, 371.8800048828125, 0), (98, 383.8999938964844, 0), (131, 404.0, 0), (136, 405.3299865722656, 0), (157, 414.70001220703125, 0), (177, 421.9700012207031, 0), (188, 436.1000061035156, 0), (200, 436.1199951171875, 0), (217, 443.2200012207031, 0), (221, 428.8599853515625, 0), (238, 431.5400085449219, 0), (258, 462.0400085449219, 0), (281, 460.25, 0), (285, 451.1400146484375, 0), (299, 456.6000061035156, 0), (308, 420.760009765625, 0), (330, 410.6400146484375, 0), (342, 415.7900085449219, 0), (359, 443.4700012207031, 0), (366, 435.6099853515625, 0), (376, 405.0199890136719, 0), (384, 385.1499938964844, 0), (426, 371.0400085449219, 0), (481, 357.0400085449219, 0), (496, 363.5400085449219, 0)]\n",
      "[(10, 362.7799987792969, 1), (26, 371.04998779296875, 1), (46, 381.489990234375, 1), (71, 394.1700134277344, 1), (92, 398.1199951171875, 1), (113, 417.9100036621094, 1), (118, 418.25, 1), (128, 422.82000732421875, 1), (144, 422.7200012207031, 1), (154, 425.4599914550781, 1), (197, 447.1099853515625, 1), (210, 454.04998779296875, 1), (224, 444.8900146484375, 1), (255, 470.6499938964844, 1), (283, 472.8699951171875, 1), (295, 479.9800109863281, 1), (301, 473.20001220703125, 1), (315, 458.1199951171875, 1), (320, 457.8800048828125, 1), (325, 448.05999755859375, 1), (335, 441.1099853515625, 1), (353, 462.07000732421875, 1), (369, 450.010009765625, 1), (378, 429.6600036621094, 1), (387, 408.57000732421875, 1), (415, 393.1600036621094, 1), (422, 390.6400146484375, 1), (432, 400.17999267578125, 1), (449, 431.7300109863281, 1), (457, 419.9599914550781, 1), (467, 411.7300109863281, 1), (479, 372.29998779296875, 1), (484, 379.4599914550781, 1)]\n"
     ]
    }
   ],
   "source": [
    "# using two list support_list, resistance_list\n",
    "\n",
    "support_list = []\n",
    "resistance_list = []\n",
    "\n",
    "n1 = 2\n",
    "n2 = 2\n",
    "\n",
    "for row in range(n1, len(df) - n2):\n",
    "    if support(df, row, n1, n2 ):\n",
    "        support_list.append((row , df['Low'][row], 0))\n",
    "\n",
    "    if resistance(df , row, n1, n2):\n",
    "        resistance_list.append((row, df['High'][row],1))\n",
    "\n",
    "print(support_list)\n",
    "#print(len(support_list))\n",
    "print(resistance_list)\n",
    "#print(len(resistance_list))"
   ]
  },
  {
   "cell_type": "code",
   "execution_count": 41,
   "metadata": {
    "colab": {
     "base_uri": "https://localhost:8080/"
    },
    "id": "Ut8vZ05FXDz4",
    "outputId": "5ad933f8-35a4-4a4b-b86d-e8f359e00bb7"
   },
   "outputs": [
    {
     "name": "stdout",
     "output_type": "stream",
     "text": [
      "20\n",
      "22\n",
      "42\n"
     ]
    }
   ],
   "source": [
    "support_list.sort()\n",
    "resistance_list.sort()\n",
    "\n",
    "# merge lines that are close to each other\n",
    "for i in range(1 , len(support_list)):\n",
    "    if ( i >= len(support_list)):\n",
    "        break\n",
    "    if abs( support_list[i][1] - support_list[i-1][1] <= 1):\n",
    "        support_list.pop(i)\n",
    "\n",
    "for i in range(1, len(resistance_list)):\n",
    "    if( i >= len(resistance_list)):\n",
    "        break\n",
    "    if abs( resistance_list[i][1] - resistance_list[i-1][1] <= 1):\n",
    "        resistance_list.pop(i)\n",
    "        \n",
    "        \n",
    "pivotlist = support_list + resistance_list\n",
    "\n",
    "pivotlist.sort()\n",
    "print(len(support_list))\n",
    "#print(support_list)\n",
    "print(len(resistance_list))\n",
    "#print(resistance_list)\n",
    "print(len(pivotlist))\n",
    "#print(pivotlist)"
   ]
  },
  {
   "cell_type": "code",
   "execution_count": 32,
   "metadata": {
    "id": "ARYP2vW_GB9m"
   },
   "outputs": [],
   "source": [
    "PriceSignal = [0] *len(df)\n",
    "\n",
    "#start = pivotlist[0][0] + 1\n",
    "for row in range(0 , len(df)):\n",
    "\n",
    "    for pivot in pivotlist:\n",
    "        # the date of current candle is on or before the pivotlist\n",
    "        if ( row <= pivot[0]):\n",
    "            break\n",
    "        # 0 indicates support level\n",
    "        if ( pivot[2] == 0 ): \n",
    "            # support level check if it undercuts and rallies\n",
    "            if (df[\"Low\"][row] <= pivot[1] and df[\"Close\"][row] > pivot[1]):\n",
    "                PriceSignal[row] = 1 # indicate it undercuts and rallies above support\n",
    "        # 1 indicates resistance level\n",
    "        elif ( pivot[2] == 1):\n",
    "            # resistance level check if it rallies above the level and reverse below it\n",
    "            if ( df[\"High\"][row] >= pivot[1] and df[\"Close\"][row] < pivot[1]):\n",
    "                PriceSignal[row] = 2\n",
    "\n",
    "df[\"PriceSignal\"] = PriceSignal"
   ]
  },
  {
   "cell_type": "markdown",
   "metadata": {
    "id": "9UNCUb4QNYcC"
   },
   "source": [
    "# Visualizing signals on chart"
   ]
  },
  {
   "cell_type": "code",
   "execution_count": 33,
   "metadata": {
    "id": "Vx9Je3yFNoGT"
   },
   "outputs": [],
   "source": [
    "def SupportPos(x):\n",
    "    if (x[\"PriceSignal\"] == 1):\n",
    "        return x[\"Low\"] - 2e-3\n",
    "    else:\n",
    "        return np.nan\n",
    "\n",
    "def ResistPos(x):\n",
    "    if ( x[\"PriceSignal\"] == 2):\n",
    "        return x[\"High\"] + 2e-3\n",
    "    else:\n",
    "        return np.nan\n",
    "\n",
    "df[\"SupportPos\"] = df.apply( lambda row: SupportPos(row), axis = 1)\n",
    "\n",
    "df[\"ResistPos\"] =  df.apply( lambda row: ResistPos(row), axis = 1)"
   ]
  },
  {
   "cell_type": "code",
   "execution_count": 34,
   "metadata": {
    "colab": {
     "base_uri": "https://localhost:8080/",
     "height": 542
    },
    "id": "OVB6f3h1F0YP",
    "outputId": "9aa6df7b-6773-44d1-fd42-ac023492c373"
   },
   "outputs": [
    {
     "ename": "NameError",
     "evalue": "name 'plotly' is not defined",
     "output_type": "error",
     "traceback": [
      "\u001b[0;31m---------------------------------------------------------------------------\u001b[0m",
      "\u001b[0;31mNameError\u001b[0m                                 Traceback (most recent call last)",
      "\u001b[0;32m/var/folders/gs/bl32mqf12ljbnr95r03h17bc0000gp/T/ipykernel_22675/3577154359.py\u001b[0m in \u001b[0;36m<module>\u001b[0;34m\u001b[0m\n\u001b[0;32m----> 1\u001b[0;31m fig = plotly.subplots.make_subplots( rows = 2, cols = 1, shared_xaxes = True,\n\u001b[0m\u001b[1;32m      2\u001b[0m                     vertical_spacing= 0.03, row_width = [0.2, 0.7])\n\u001b[1;32m      3\u001b[0m \u001b[0;34m\u001b[0m\u001b[0m\n\u001b[1;32m      4\u001b[0m fig.add_trace(go.Candlestick(x = df.index,\n\u001b[1;32m      5\u001b[0m                             \u001b[0mopen\u001b[0m \u001b[0;34m=\u001b[0m \u001b[0mdf\u001b[0m\u001b[0;34m[\u001b[0m\u001b[0;34m'Open'\u001b[0m\u001b[0;34m]\u001b[0m\u001b[0;34m,\u001b[0m\u001b[0;34m\u001b[0m\u001b[0;34m\u001b[0m\u001b[0m\n",
      "\u001b[0;31mNameError\u001b[0m: name 'plotly' is not defined"
     ]
    }
   ],
   "source": [
    "fig = plotly.subplots.make_subplots( rows = 2, cols = 1, shared_xaxes = True,\n",
    "                    vertical_spacing= 0.03, row_width = [0.2, 0.7])\n",
    "\n",
    "fig.add_trace(go.Candlestick(x = df.index,\n",
    "                            open = df['Open'],\n",
    "                            high = df['High'], \n",
    "                            low = df['Low'], \n",
    "                            close = df['Close']),\n",
    "                            row = 1 , col = 1) \n",
    "\n",
    "\n",
    "fig.add_trace(go.Bar(x =df[\"Date\"] , y = df['Volume'], showlegend = False ), \n",
    "                     row = 2, col =1)\n",
    "\n",
    "fig.update(layout_xaxis_rangeslider_visible=False)\n",
    "\n",
    "counter1 = 0\n",
    "counter2 = 0\n",
    "\n",
    "while(True):\n",
    "    if (counter1 > len(support_list) - 1):\n",
    "        break\n",
    "    fig.add_shape( type = 'line', line=dict(color=\"Green\",width=1) ,x0 = support_list[counter1][0]-3 , y0 = support_list[counter1][1],\n",
    "                  x1 = df.shape[0], y1 = support_list[counter1][1])\n",
    "    \n",
    "    counter1 += 1\n",
    "\n",
    "while(True):\n",
    "    if (counter2 > len(resistance_list) - 1):\n",
    "        break\n",
    "  \n",
    "    fig.add_shape( type = 'line', line=dict(color=\"Red\",width=1),x0 = resistance_list[counter2][0] - 3 , y0 = resistance_list[counter2][1], \n",
    "                x1 = df.shape[0], y1 = resistance_list[counter2][1])\n",
    "    counter2 +=1\n",
    "\n",
    "\n",
    "fig.add_scatter(x = df.index , y = df['SupportPos'] ,mode = \"markers\",\n",
    "                marker = dict(size = 8 , color = \"MediumPurple\"), name = \"Support_Signal\")\n",
    "\n",
    "fig.add_scatter(x = df.index , y = df['ResistPos'] ,mode = \"markers\",\n",
    "                marker = dict(size = 8 , color = \"MediumBlue\"), name = \"Resistance_Signal\")\n",
    "fig.update_layout(title = f\"{stock} daily chart \")\n",
    "fig.show()\n",
    "\n"
   ]
  },
  {
   "cell_type": "code",
   "execution_count": null,
   "metadata": {
    "colab": {
     "base_uri": "https://localhost:8080/"
    },
    "id": "4fUUmlXzmPqe",
    "outputId": "eed127e5-2d73-49d7-903e-2357110a269e"
   },
   "outputs": [],
   "source": [
    "# make a most simple strategy: long 1 share at the next open when crossover support,\n",
    "#                              Short 1 share at the next open when crossover resistance.\n",
    "\n",
    "pd.options.mode.chained_assignment = None\n",
    "\n",
    "df_rtn = df.copy()\n",
    "\n",
    "df_rtn.loc[0,\"netvalue\"] = 1  \n",
    "\n",
    "for i in range(0,len(df_rtn)-1):\n",
    "    if (df_rtn['PriceSignal'][i] == 2):\n",
    "    \n",
    "        #rt.append(max((partial_book['KF_MID'][i]-partial_book['ASK_PRICE_1'][i])/partial_book['ASK_PRICE_1'][i],0))\n",
    "        df_rtn.loc[i+1, \"return\"] = ( - ( (df[\"Open\"][i+1]) - (df[\"Close\"][i+1]))/(df[\"Close\"][i+1]) ) #short at open\n",
    "        #times.append( (df[\"Date\"][i+1]) )\n",
    "        df_rtn[\"netvalue\"][i+1] = df_rtn[\"netvalue\"][i] * (1+df_rtn[\"return\"][i+1])\n",
    "    elif (df_rtn['PriceSignal'][i] == 1):\n",
    "        df_rtn.loc[i+1, \"return\"] =(   ( (df[\"Open\"][i+1]) - (df[\"Close\"][i+1]))/(df[\"Close\"][i+1]) ) #long at open\n",
    "        \n",
    "        df_rtn[\"netvalue\"][i+1] = df_rtn[\"netvalue\"][i] * (1+df_rtn[\"return\"][i+1])\n",
    "        #times.append( (df[\"Date\"][i+1]) )\n",
    "    else:\n",
    "        \n",
    "        df_rtn[\"netvalue\"][i+1] = df_rtn[\"netvalue\"][i]\n",
    "    \n"
   ]
  },
  {
   "cell_type": "code",
   "execution_count": null,
   "metadata": {
    "colab": {
     "base_uri": "https://localhost:8080/",
     "height": 423
    },
    "id": "dZ-9qu1tmPqf",
    "outputId": "5e6b2b3e-86d0-4d3e-87e5-f396fe1344d9"
   },
   "outputs": [],
   "source": [
    "df_rtn"
   ]
  },
  {
   "cell_type": "code",
   "execution_count": null,
   "metadata": {
    "colab": {
     "base_uri": "https://localhost:8080/",
     "height": 542
    },
    "id": "H0T54RV1mPqf",
    "outputId": "1747943b-a90c-4f0c-feac-9bbcb2069ef0",
    "scrolled": false
   },
   "outputs": [],
   "source": [
    "fig =go.Figure()\n",
    "fig.add_trace(go.Scatter(x = df_rtn['Date'] , y = df_rtn['netvalue'] ,mode = \"lines\",\n",
    "                         marker = dict(size = 8 , color = \"Black\"), name = \"Net Value\"))\n",
    "fig.show()"
   ]
  },
  {
   "cell_type": "markdown",
   "metadata": {
    "id": "nWAEY9A0nH7Y"
   },
   "source": [
    "# Exponential Weighting Price Level Based on Volume and Time"
   ]
  },
  {
   "cell_type": "markdown",
   "metadata": {
    "id": "jSnVmng3nPXV"
   },
   "source": [
    "## Reset DataFrame"
   ]
  },
  {
   "cell_type": "code",
   "execution_count": 11,
   "metadata": {
    "colab": {
     "base_uri": "https://localhost:8080/",
     "height": 241
    },
    "id": "Tl_KG5TGnK8e",
    "outputId": "ddc96572-172c-49ca-8fbf-98d62db53e19"
   },
   "outputs": [
    {
     "name": "stdout",
     "output_type": "stream",
     "text": [
      "[*********************100%***********************]  1 of 1 completed\n"
     ]
    },
    {
     "data": {
      "text/html": [
       "<div>\n",
       "<style scoped>\n",
       "    .dataframe tbody tr th:only-of-type {\n",
       "        vertical-align: middle;\n",
       "    }\n",
       "\n",
       "    .dataframe tbody tr th {\n",
       "        vertical-align: top;\n",
       "    }\n",
       "\n",
       "    .dataframe thead th {\n",
       "        text-align: right;\n",
       "    }\n",
       "</style>\n",
       "<table border=\"1\" class=\"dataframe\">\n",
       "  <thead>\n",
       "    <tr style=\"text-align: right;\">\n",
       "      <th></th>\n",
       "      <th>Date</th>\n",
       "      <th>Open</th>\n",
       "      <th>High</th>\n",
       "      <th>Low</th>\n",
       "      <th>Close</th>\n",
       "      <th>Adj Close</th>\n",
       "      <th>Volume</th>\n",
       "    </tr>\n",
       "  </thead>\n",
       "  <tbody>\n",
       "    <tr>\n",
       "      <th>0</th>\n",
       "      <td>2020-11-02 00:00:00-05:00</td>\n",
       "      <td>330.200012</td>\n",
       "      <td>332.359985</td>\n",
       "      <td>327.239990</td>\n",
       "      <td>330.200012</td>\n",
       "      <td>320.759491</td>\n",
       "      <td>86068300</td>\n",
       "    </tr>\n",
       "    <tr>\n",
       "      <th>1</th>\n",
       "      <td>2020-11-03 00:00:00-05:00</td>\n",
       "      <td>333.690002</td>\n",
       "      <td>338.250000</td>\n",
       "      <td>330.290009</td>\n",
       "      <td>336.029999</td>\n",
       "      <td>326.422791</td>\n",
       "      <td>93294200</td>\n",
       "    </tr>\n",
       "    <tr>\n",
       "      <th>2</th>\n",
       "      <td>2020-11-04 00:00:00-05:00</td>\n",
       "      <td>340.859985</td>\n",
       "      <td>347.940002</td>\n",
       "      <td>339.589996</td>\n",
       "      <td>343.540009</td>\n",
       "      <td>333.718140</td>\n",
       "      <td>126959700</td>\n",
       "    </tr>\n",
       "    <tr>\n",
       "      <th>3</th>\n",
       "      <td>2020-11-05 00:00:00-05:00</td>\n",
       "      <td>349.239990</td>\n",
       "      <td>352.190002</td>\n",
       "      <td>348.859985</td>\n",
       "      <td>350.239990</td>\n",
       "      <td>340.226532</td>\n",
       "      <td>82039700</td>\n",
       "    </tr>\n",
       "    <tr>\n",
       "      <th>4</th>\n",
       "      <td>2020-11-06 00:00:00-05:00</td>\n",
       "      <td>349.929993</td>\n",
       "      <td>351.510010</td>\n",
       "      <td>347.649994</td>\n",
       "      <td>350.160004</td>\n",
       "      <td>340.148804</td>\n",
       "      <td>74973000</td>\n",
       "    </tr>\n",
       "  </tbody>\n",
       "</table>\n",
       "</div>"
      ],
      "text/plain": [
       "                       Date        Open        High         Low       Close  \\\n",
       "0 2020-11-02 00:00:00-05:00  330.200012  332.359985  327.239990  330.200012   \n",
       "1 2020-11-03 00:00:00-05:00  333.690002  338.250000  330.290009  336.029999   \n",
       "2 2020-11-04 00:00:00-05:00  340.859985  347.940002  339.589996  343.540009   \n",
       "3 2020-11-05 00:00:00-05:00  349.239990  352.190002  348.859985  350.239990   \n",
       "4 2020-11-06 00:00:00-05:00  349.929993  351.510010  347.649994  350.160004   \n",
       "\n",
       "    Adj Close     Volume  \n",
       "0  320.759491   86068300  \n",
       "1  326.422791   93294200  \n",
       "2  333.718140  126959700  \n",
       "3  340.226532   82039700  \n",
       "4  340.148804   74973000  "
      ]
     },
     "execution_count": 11,
     "metadata": {},
     "output_type": "execute_result"
    }
   ],
   "source": [
    "stock = 'SPY'\n",
    "df= yf.download(stock, '2020-10-31', '2022-10-31') \n",
    "df.reset_index( inplace = True)\n",
    "df.head()"
   ]
  },
  {
   "cell_type": "code",
   "execution_count": 12,
   "metadata": {
    "colab": {
     "base_uri": "https://localhost:8080/"
    },
    "id": "XB1OqK08nRms",
    "outputId": "c95eabb9-53de-4ed1-f326-e7410da6ef00"
   },
   "outputs": [],
   "source": [
    "# using two list support_list, resistance_list\n",
    "support_list = []\n",
    "resistance_list = []\n",
    "\n",
    "n1 = 2\n",
    "n2 = 2\n",
    "\n",
    "for row in range(n1, len(df) - n2):\n",
    "    if support(df, row, n1, n2 ):\n",
    "        support_list.append((row , df['Low'][row], 0))\n",
    "\n",
    "    if resistance(df , row, n1, n2):\n",
    "        resistance_list.append((row, df['High'][row],1))"
   ]
  },
  {
   "cell_type": "code",
   "execution_count": 13,
   "metadata": {
    "colab": {
     "base_uri": "https://localhost:8080/"
    },
    "id": "L9RLw3PynU_2",
    "outputId": "3049a00c-8fb9-4cec-ef28-eac7087e8ea5"
   },
   "outputs": [],
   "source": [
    "\n",
    "# using two list support_list, resistance_list\n",
    "\n",
    "support_list = []\n",
    "resistance_list = []\n",
    "# add a volume and  time weighing\n",
    "volsums=0\n",
    "volsumr=0\n",
    "vollists=[]\n",
    "vollistr=[]\n",
    "timelists=[]\n",
    "timelistr=[]\n",
    "\n",
    "\n",
    "n1 = 2\n",
    "n2 = 2\n",
    "\n",
    "for row in range(n1, len(df) - n2):\n",
    "    if support(df, row, n1, n2 ):\n",
    "        support_list.append([row , df['Low'][row], 0, df['Volume'][row], df['Date'][row]])\n",
    "        volsums+=df['Volume'][row]\n",
    "        timelists.append(df['Date'][row])\n",
    "        vollists.append(df['Volume'][row])\n",
    "    if resistance(df , row, n1, n2):\n",
    "        resistance_list.append([row, df['High'][row],1, df['Volume'][row], df['Date'][row]])\n",
    "        volsumr+=df['Volume'][row]\n",
    "        timelistr.append(df['Date'][row])\n",
    "        vollistr.append(df['Volume'][row])\n",
    "# print(support_list)\n",
    "# print(len(support_list))\n",
    "# print(resistance_list)\n",
    "# print(len(resistance_list))\n",
    "# print(volsums)\n",
    "# print(volsumr)\n",
    "# vollists\n",
    "# vollistr\n",
    "# timelists\n",
    "# timelistr"
   ]
  },
  {
   "cell_type": "code",
   "execution_count": 14,
   "metadata": {
    "colab": {
     "base_uri": "https://localhost:8080/"
    },
    "id": "Hvbhj1R9nWvA",
    "outputId": "7d18a242-a4a9-4d64-8f4c-94fc5d60a2fa"
   },
   "outputs": [
    {
     "name": "stdout",
     "output_type": "stream",
     "text": [
      "20\n",
      "22\n"
     ]
    }
   ],
   "source": [
    "support_list.sort()\n",
    "resistance_list.sort()\n",
    "\n",
    "# merge lines that are close to each other\n",
    "for i in range(1 , len(support_list)):\n",
    "    if ( i >= len(support_list)):\n",
    "        break\n",
    "    if abs( support_list[i][1] - support_list[i-1][1] <= 1):\n",
    "        support_list.pop(i)\n",
    "\n",
    "for i in range(1, len(resistance_list)):\n",
    "    if( i >= len(resistance_list)):\n",
    "        break\n",
    "    if abs( resistance_list[i][1] - resistance_list[i-1][1] <= 1):\n",
    "        resistance_list.pop(i)\n",
    "\n",
    "print(len(support_list))\n",
    "\n",
    "print(len(resistance_list))"
   ]
  },
  {
   "cell_type": "code",
   "execution_count": 15,
   "metadata": {
    "colab": {
     "base_uri": "https://localhost:8080/"
    },
    "id": "YJAXp58NnYQ7",
    "outputId": "dde48a17-8a72-4b13-b230-1b9f95bb2baa"
   },
   "outputs": [
    {
     "data": {
      "text/plain": [
       "array([0.        , 0.02014817, 0.04607577, 0.09575981, 0.15337547,\n",
       "       0.12137455, 0.16908108, 0.15578725, 0.19845974, 0.2784098 ,\n",
       "       0.12135281, 0.2134107 , 0.19615091, 0.45230757, 0.2135574 ,\n",
       "       0.21769828, 0.32530519, 0.38071319, 0.44911446, 1.        ])"
      ]
     },
     "execution_count": 15,
     "metadata": {},
     "output_type": "execute_result"
    }
   ],
   "source": [
    "# support weights\n",
    "vollists=vollists/sum(vollists)\n",
    "volws=[]\n",
    "timews=[]\n",
    "target=vollists\n",
    "target=pd.Series(target)\n",
    "ttt=pd.to_datetime(timelists)\n",
    "\n",
    "# a=target.ewm(alpha=0.95).mean()\n",
    "\n",
    "for i in range(len(support_list)):\n",
    "    vw=0.95*(i)*0.05/(1-0.95**(len(support_list)))*vollists[i]\n",
    "    volws.append(vw)\n",
    "volws=volws/max(volws)\n",
    "volws"
   ]
  },
  {
   "cell_type": "markdown",
   "metadata": {
    "id": "2cWaRZDlnetP"
   },
   "source": [
    "## Adding Stop Loss Feature"
   ]
  },
  {
   "cell_type": "code",
   "execution_count": 16,
   "metadata": {
    "colab": {
     "base_uri": "https://localhost:8080/",
     "height": 282
    },
    "id": "s2-pC-dcnZrt",
    "outputId": "9c5dd074-bc53-4737-a34e-2d0a3af803ec"
   },
   "outputs": [
    {
     "data": {
      "text/plain": [
       "<AxesSubplot:ylabel='Frequency'>"
      ]
     },
     "execution_count": 16,
     "metadata": {},
     "output_type": "execute_result"
    },
    {
     "data": {
      "image/png": "[encoded data removed]",
      "text/plain": [
       "<Figure size 432x288 with 1 Axes>"
      ]
     },
     "metadata": {
      "needs_background": "light"
     },
     "output_type": "display_data"
    }
   ],
   "source": [
    "qt=pd.DataFrame(volws)\n",
    "qt.plot.hist()"
   ]
  },
  {
   "cell_type": "code",
   "execution_count": 17,
   "metadata": {
    "id": "EjCTkRDEnazW"
   },
   "outputs": [],
   "source": [
    "cutoffs1=qt.quantile(1/3)\n",
    "cutoffs2=qt.quantile(2/3)"
   ]
  },
  {
   "cell_type": "code",
   "execution_count": 18,
   "metadata": {
    "id": "gFsgdOWYnbt0"
   },
   "outputs": [],
   "source": [
    "stoplosss=[]\n",
    "for i in range(len(volws)):\n",
    "    if volws[i]<=cutoffs1[0]:\n",
    "        stoplosss.append(0.995)\n",
    "    elif volws[i]<=cutoffs2[0]:\n",
    "        stoplosss.append(0.99)\n",
    "    else:\n",
    "        stoplosss.append(0.98)"
   ]
  },
  {
   "cell_type": "code",
   "execution_count": 19,
   "metadata": {
    "colab": {
     "base_uri": "https://localhost:8080/"
    },
    "id": "x_wrrIcnndBB",
    "outputId": "b816ca4b-0ceb-43ea-9427-95f835925608"
   },
   "outputs": [
    {
     "data": {
      "text/plain": [
       "array([0.        , 0.03511711, 0.06793938, 0.07247144, 0.18570184,\n",
       "       0.19439805, 0.20817447, 0.22470567, 0.20555726, 0.21970096,\n",
       "       0.34947304, 0.22156562, 0.43447262, 0.40903502, 0.77342849,\n",
       "       0.50600156, 0.51263932, 0.94554732, 0.78985372, 0.76416228,\n",
       "       1.        , 0.86169773])"
      ]
     },
     "execution_count": 19,
     "metadata": {},
     "output_type": "execute_result"
    }
   ],
   "source": [
    "# resistance weights\n",
    "vollistr=vollistr/sum(vollistr)\n",
    "volwr=[]\n",
    "timewr=[]\n",
    "target=vollistr\n",
    "target=pd.Series(target)\n",
    "ttt=pd.to_datetime(timelistr)\n",
    "# a=target.ewm(halflife='30 days', times=ttt).mean()\n",
    "\n",
    "# a=target.ewm(alpha=0.95).mean()\n",
    "\n",
    "for i in range(len(resistance_list)):\n",
    "    vw=0.95*i*0.05/(1-0.95**(len(resistance_list)))*vollistr[i]\n",
    "    volwr.append(vw)\n",
    "volwr=volwr/max(volwr)\n",
    "volwr"
   ]
  },
  {
   "cell_type": "code",
   "execution_count": 20,
   "metadata": {
    "colab": {
     "base_uri": "https://localhost:8080/",
     "height": 282
    },
    "id": "oF95qicEniyC",
    "outputId": "99be2404-2d99-4385-aab8-9956de1b27dc"
   },
   "outputs": [
    {
     "data": {
      "text/plain": [
       "<AxesSubplot:ylabel='Frequency'>"
      ]
     },
     "execution_count": 20,
     "metadata": {},
     "output_type": "execute_result"
    },
    {
     "data": {
      "image/png": "[encoded data removed]",
      "text/plain": [
       "<Figure size 432x288 with 1 Axes>"
      ]
     },
     "metadata": {
      "needs_background": "light"
     },
     "output_type": "display_data"
    }
   ],
   "source": [
    "qtr=pd.DataFrame(volwr)\n",
    "qtr.plot.hist()"
   ]
  },
  {
   "cell_type": "code",
   "execution_count": 21,
   "metadata": {
    "id": "VBe3hPvinkGm"
   },
   "outputs": [],
   "source": [
    "cutoffr1=qtr.quantile(1/3)\n",
    "cutoffr2=qtr.quantile(2/3)"
   ]
  },
  {
   "cell_type": "code",
   "execution_count": 22,
   "metadata": {
    "id": "kSfo3kUmnlwW"
   },
   "outputs": [],
   "source": [
    "stoplossr=[]\n",
    "for i in range(len(volwr)):\n",
    "    if volwr[i]<=cutoffr1[0]:\n",
    "        stoplossr.append(0.995)\n",
    "    elif volwr[i]<=cutoffr2[0]:\n",
    "        stoplossr.append(0.99)\n",
    "    else:\n",
    "        stoplossr.append(0.98)\n",
    "        \n",
    "\n",
    "for i in range(len(support_list)):\n",
    "      support_list[i].append(stoplosss[i])\n",
    "for i in range(len(resistance_list)):\n",
    "      resistance_list[i].append(stoplossr[i])\n",
    "\n",
    "pivotlist = support_list + resistance_list\n",
    "\n",
    "pivotlist.sort()"
   ]
  },
  {
   "cell_type": "code",
   "execution_count": 23,
   "metadata": {
    "id": "j9ziAhDRnoFh"
   },
   "outputs": [],
   "source": [
    "PriceSignal = [0] *len(df)\n",
    "Stoploss=[0]*len(df)\n",
    "#start = pivotlist[0][0] + 1\n",
    "for row in range(0 , len(df)):\n",
    "\n",
    "    for pivot in pivotlist:\n",
    "        # the date ofcurrent candle is on or before the pivotlist\n",
    "        if ( row <= pivot[0]):\n",
    "            break\n",
    "        # 0 indicates support level\n",
    "        if ( pivot[2] == 0 ): \n",
    "            # support level check if undercut and rally\n",
    "            if (df[\"Low\"][row] <= pivot[1] and df[\"Close\"][row] > pivot[1]):\n",
    "                PriceSignal[row] = 1 # indicate it's undercut and rally\n",
    "                Stoploss[row]=pivot[-1]\n",
    "        # 1 indicates resistance level\n",
    "        elif ( pivot[2] == 1):\n",
    "            # resistance level check if it rallies above the level and reverse\n",
    "            if ( df[\"High\"][row] >= pivot[1] and df[\"Close\"][row] < pivot[1]):\n",
    "                PriceSignal[row] = 2\n",
    "                Stoploss[row]=pivot[-1]\n",
    "df[\"PriceSignal\"] = PriceSignal\n",
    "df['StopLoss']=Stoploss\n"
   ]
  },
  {
   "cell_type": "code",
   "execution_count": 24,
   "metadata": {
    "colab": {
     "base_uri": "https://localhost:8080/"
    },
    "id": "6tS0Cd0gnp-V",
    "outputId": "ccd8cedc-d2d8-42f7-b907-6c306bc6cb3f"
   },
   "outputs": [
    {
     "name": "stderr",
     "output_type": "stream",
     "text": [
      "/var/folders/gs/bl32mqf12ljbnr95r03h17bc0000gp/T/ipykernel_22675/3278861985.py:29: SettingWithCopyWarning: \n",
      "A value is trying to be set on a copy of a slice from a DataFrame\n",
      "\n",
      "See the caveats in the documentation: https://pandas.pydata.org/pandas-docs/stable/user_guide/indexing.html#returning-a-view-versus-a-copy\n",
      "  df_rtn[\"netvalue\"][i+1] = df_rtn[\"netvalue\"][i]\n",
      "/var/folders/gs/bl32mqf12ljbnr95r03h17bc0000gp/T/ipykernel_22675/3278861985.py:16: SettingWithCopyWarning: \n",
      "A value is trying to be set on a copy of a slice from a DataFrame\n",
      "\n",
      "See the caveats in the documentation: https://pandas.pydata.org/pandas-docs/stable/user_guide/indexing.html#returning-a-view-versus-a-copy\n",
      "  df_rtn[\"netvalue\"][i+1] = df_rtn[\"netvalue\"][i] * (1+df_rtn[\"return\"][i+1])\n",
      "/var/folders/gs/bl32mqf12ljbnr95r03h17bc0000gp/T/ipykernel_22675/3278861985.py:18: SettingWithCopyWarning: \n",
      "A value is trying to be set on a copy of a slice from a DataFrame\n",
      "\n",
      "See the caveats in the documentation: https://pandas.pydata.org/pandas-docs/stable/user_guide/indexing.html#returning-a-view-versus-a-copy\n",
      "  df_rtn[\"netvalue\"][i+1] = df_rtn[\"netvalue\"][i]\n",
      "/var/folders/gs/bl32mqf12ljbnr95r03h17bc0000gp/T/ipykernel_22675/3278861985.py:26: SettingWithCopyWarning: \n",
      "A value is trying to be set on a copy of a slice from a DataFrame\n",
      "\n",
      "See the caveats in the documentation: https://pandas.pydata.org/pandas-docs/stable/user_guide/indexing.html#returning-a-view-versus-a-copy\n",
      "  df_rtn[\"netvalue\"][i+1] = df_rtn[\"netvalue\"][i]\n",
      "/var/folders/gs/bl32mqf12ljbnr95r03h17bc0000gp/T/ipykernel_22675/3278861985.py:23: SettingWithCopyWarning: \n",
      "A value is trying to be set on a copy of a slice from a DataFrame\n",
      "\n",
      "See the caveats in the documentation: https://pandas.pydata.org/pandas-docs/stable/user_guide/indexing.html#returning-a-view-versus-a-copy\n",
      "  df_rtn[\"netvalue\"][i+1] = df_rtn[\"netvalue\"][i] * (1+df_rtn[\"return\"][i+1])\n"
     ]
    }
   ],
   "source": [
    "# make a most simple strategy: long 1 share at the next open when crossover support,\n",
    "#                              Short 1 share at the next open when crossover resistance.\n",
    "\n",
    "# stop loss, in agressive=0.5%, normal=1%, aggressive=2%\n",
    "\n",
    "df_rtn = df.copy()\n",
    "\n",
    "df_rtn.loc[0,\"netvalue\"] = 1  \n",
    "\n",
    "for i in range(0,len(df_rtn)-1):\n",
    "    if (df_rtn['PriceSignal'][i] == 2):\n",
    "        #rt.append(max((partial_book['KF_MID'][i]-partial_book['ASK_PRICE_1'][i])/partial_book['ASK_PRICE_1'][i],0))\n",
    "        if (df_rtn['Open'][i+1]*df_rtn['StopLoss'][i])<=df_rtn['Close'][i]:\n",
    "              df_rtn.loc[i+1, \"return\"] = ( - ( (df[\"Open\"][i+1]) - (df[\"Close\"][i]))/(df[\"Close\"][i]) ) #short at open\n",
    "          #times.append( (df[\"Date\"][i+1]) )\n",
    "              df_rtn[\"netvalue\"][i+1] = df_rtn[\"netvalue\"][i] * (1+df_rtn[\"return\"][i+1])\n",
    "        else:\n",
    "              df_rtn[\"netvalue\"][i+1] = df_rtn[\"netvalue\"][i]\n",
    "    elif (df_rtn['PriceSignal'][i] == 1):\n",
    "        if (df_rtn['Open'][i+1]*df_rtn['StopLoss'][i])>=df_rtn['Close'][i]:\n",
    "              df_rtn.loc[i+1, \"return\"] =( ( (df[\"Open\"][i+1]) - (df[\"Close\"][i]))/(df[\"Close\"][i]) )#long at open\n",
    "          \n",
    "              df_rtn[\"netvalue\"][i+1] = df_rtn[\"netvalue\"][i] * (1+df_rtn[\"return\"][i+1])\n",
    "          #times.append( (df[\"Date\"][i+1]) )\n",
    "        else:\n",
    "              df_rtn[\"netvalue\"][i+1] = df_rtn[\"netvalue\"][i]\n",
    "    else:\n",
    "        \n",
    "        df_rtn[\"netvalue\"][i+1] = df_rtn[\"netvalue\"][i]\n",
    "    \n"
   ]
  },
  {
   "cell_type": "markdown",
   "metadata": {
    "id": "RwqkNDlCn2Ws"
   },
   "source": [
    "## Visualize Net Value After Adding Stop Loss and Exponential Weighting"
   ]
  },
  {
   "cell_type": "code",
   "execution_count": 311,
   "metadata": {
    "colab": {
     "base_uri": "https://localhost:8080/",
     "height": 542
    },
    "id": "bXrXMFmtnzm2",
    "outputId": "88b7caeb-94e7-4cc2-cc72-9e3bba08fd3e"
   },
   "outputs": [
    {
     "data": {
      "application/vnd.plotly.v1+json": {
       "config": {
        "plotlyServerURL": "https://plot.ly"
       },
       "data": [
        {
         "marker": {
          "color": "Black",
          "size": 8
         },
         "mode": "lines",
         "name": "Net Value",
         "type": "scatter",
         "x": [
          "2020-11-02T00:00:00-05:00",
          "2020-11-03T00:00:00-05:00",
          "2020-11-04T00:00:00-05:00",
          "2020-11-05T00:00:00-05:00",
          "2020-11-06T00:00:00-05:00",
          "2020-11-09T00:00:00-05:00",
          "2020-11-10T00:00:00-05:00",
          "2020-11-11T00:00:00-05:00",
          "2020-11-12T00:00:00-05:00",
          "2020-11-13T00:00:00-05:00",
          "2020-11-16T00:00:00-05:00",
          "2020-11-17T00:00:00-05:00",
          "2020-11-18T00:00:00-05:00",
          "2020-11-19T00:00:00-05:00",
          "2020-11-20T00:00:00-05:00",
          "2020-11-23T00:00:00-05:00",
          "2020-11-24T00:00:00-05:00",
          "2020-11-25T00:00:00-05:00",
          "2020-11-27T00:00:00-05:00",
          "2020-11-30T00:00:00-05:00",
          "2020-12-01T00:00:00-05:00",
          "2020-12-02T00:00:00-05:00",
          "2020-12-03T00:00:00-05:00",
          "2020-12-04T00:00:00-05:00",
          "2020-12-07T00:00:00-05:00",
          "2020-12-08T00:00:00-05:00",
          "2020-12-09T00:00:00-05:00",
          "2020-12-10T00:00:00-05:00",
          "2020-12-11T00:00:00-05:00",
          "2020-12-14T00:00:00-05:00",
          "2020-12-15T00:00:00-05:00",
          "2020-12-16T00:00:00-05:00",
          "2020-12-17T00:00:00-05:00",
          "2020-12-18T00:00:00-05:00",
          "2020-12-21T00:00:00-05:00",
          "2020-12-22T00:00:00-05:00",
          "2020-12-23T00:00:00-05:00",
          "2020-12-24T00:00:00-05:00",
          "2020-12-28T00:00:00-05:00",
          "2020-12-29T00:00:00-05:00",
          "2020-12-30T00:00:00-05:00",
          "2020-12-31T00:00:00-05:00",
          "2021-01-04T00:00:00-05:00",
          "2021-01-05T00:00:00-05:00",
          "2021-01-06T00:00:00-05:00",
          "2021-01-07T00:00:00-05:00",
          "2021-01-08T00:00:00-05:00",
          "2021-01-11T00:00:00-05:00",
          "2021-01-12T00:00:00-05:00",
          "2021-01-13T00:00:00-05:00",
          "2021-01-14T00:00:00-05:00",
          "2021-01-15T00:00:00-05:00",
          "2021-01-19T00:00:00-05:00",
          "2021-01-20T00:00:00-05:00",
          "2021-01-21T00:00:00-05:00",
          "2021-01-22T00:00:00-05:00",
          "2021-01-25T00:00:00-05:00",
          "2021-01-26T00:00:00-05:00",
          "2021-01-27T00:00:00-05:00",
          "2021-01-28T00:00:00-05:00",
          "2021-01-29T00:00:00-05:00",
          "2021-02-01T00:00:00-05:00",
          "2021-02-02T00:00:00-05:00",
          "2021-02-03T00:00:00-05:00",
          "2021-02-04T00:00:00-05:00",
          "2021-02-05T00:00:00-05:00",
          "2021-02-08T00:00:00-05:00",
          "2021-02-09T00:00:00-05:00",
          "2021-02-10T00:00:00-05:00",
          "2021-02-11T00:00:00-05:00",
          "2021-02-12T00:00:00-05:00",
          "2021-02-16T00:00:00-05:00",
          "2021-02-17T00:00:00-05:00",
          "2021-02-18T00:00:00-05:00",
          "2021-02-19T00:00:00-05:00",
          "2021-02-22T00:00:00-05:00",
          "2021-02-23T00:00:00-05:00",
          "2021-02-24T00:00:00-05:00",
          "2021-02-25T00:00:00-05:00",
          "2021-02-26T00:00:00-05:00",
          "2021-03-01T00:00:00-05:00",
          "2021-03-02T00:00:00-05:00",
          "2021-03-03T00:00:00-05:00",
          "2021-03-04T00:00:00-05:00",
          "2021-03-05T00:00:00-05:00",
          "2021-03-08T00:00:00-05:00",
          "2021-03-09T00:00:00-05:00",
          "2021-03-10T00:00:00-05:00",
          "2021-03-11T00:00:00-05:00",
          "2021-03-12T00:00:00-05:00",
          "2021-03-15T00:00:00-04:00",
          "2021-03-16T00:00:00-04:00",
          "2021-03-17T00:00:00-04:00",
          "2021-03-18T00:00:00-04:00",
          "2021-03-19T00:00:00-04:00",
          "2021-03-22T00:00:00-04:00",
          "2021-03-23T00:00:00-04:00",
          "2021-03-24T00:00:00-04:00",
          "2021-03-25T00:00:00-04:00",
          "2021-03-26T00:00:00-04:00",
          "2021-03-29T00:00:00-04:00",
          "2021-03-30T00:00:00-04:00",
          "2021-03-31T00:00:00-04:00",
          "2021-04-01T00:00:00-04:00",
          "2021-04-05T00:00:00-04:00",
          "2021-04-06T00:00:00-04:00",
          "2021-04-07T00:00:00-04:00",
          "2021-04-08T00:00:00-04:00",
          "2021-04-09T00:00:00-04:00",
          "2021-04-12T00:00:00-04:00",
          "2021-04-13T00:00:00-04:00",
          "2021-04-14T00:00:00-04:00",
          "2021-04-15T00:00:00-04:00",
          "2021-04-16T00:00:00-04:00",
          "2021-04-19T00:00:00-04:00",
          "2021-04-20T00:00:00-04:00",
          "2021-04-21T00:00:00-04:00",
          "2021-04-22T00:00:00-04:00",
          "2021-04-23T00:00:00-04:00",
          "2021-04-26T00:00:00-04:00",
          "2021-04-27T00:00:00-04:00",
          "2021-04-28T00:00:00-04:00",
          "2021-04-29T00:00:00-04:00",
          "2021-04-30T00:00:00-04:00",
          "2021-05-03T00:00:00-04:00",
          "2021-05-04T00:00:00-04:00",
          "2021-05-05T00:00:00-04:00",
          "2021-05-06T00:00:00-04:00",
          "2021-05-07T00:00:00-04:00",
          "2021-05-10T00:00:00-04:00",
          "2021-05-11T00:00:00-04:00",
          "2021-05-12T00:00:00-04:00",
          "2021-05-13T00:00:00-04:00",
          "2021-05-14T00:00:00-04:00",
          "2021-05-17T00:00:00-04:00",
          "2021-05-18T00:00:00-04:00",
          "2021-05-19T00:00:00-04:00",
          "2021-05-20T00:00:00-04:00",
          "2021-05-21T00:00:00-04:00",
          "2021-05-24T00:00:00-04:00",
          "2021-05-25T00:00:00-04:00",
          "2021-05-26T00:00:00-04:00",
          "2021-05-27T00:00:00-04:00",
          "2021-05-28T00:00:00-04:00",
          "2021-06-01T00:00:00-04:00",
          "2021-06-02T00:00:00-04:00",
          "2021-06-03T00:00:00-04:00",
          "2021-06-04T00:00:00-04:00",
          "2021-06-07T00:00:00-04:00",
          "2021-06-08T00:00:00-04:00",
          "2021-06-09T00:00:00-04:00",
          "2021-06-10T00:00:00-04:00",
          "2021-06-11T00:00:00-04:00",
          "2021-06-14T00:00:00-04:00",
          "2021-06-15T00:00:00-04:00",
          "2021-06-16T00:00:00-04:00",
          "2021-06-17T00:00:00-04:00",
          "2021-06-18T00:00:00-04:00",
          "2021-06-21T00:00:00-04:00",
          "2021-06-22T00:00:00-04:00",
          "2021-06-23T00:00:00-04:00",
          "2021-06-24T00:00:00-04:00",
          "2021-06-25T00:00:00-04:00",
          "2021-06-28T00:00:00-04:00",
          "2021-06-29T00:00:00-04:00",
          "2021-06-30T00:00:00-04:00",
          "2021-07-01T00:00:00-04:00",
          "2021-07-02T00:00:00-04:00",
          "2021-07-06T00:00:00-04:00",
          "2021-07-07T00:00:00-04:00",
          "2021-07-08T00:00:00-04:00",
          "2021-07-09T00:00:00-04:00",
          "2021-07-12T00:00:00-04:00",
          "2021-07-13T00:00:00-04:00",
          "2021-07-14T00:00:00-04:00",
          "2021-07-15T00:00:00-04:00",
          "2021-07-16T00:00:00-04:00",
          "2021-07-19T00:00:00-04:00",
          "2021-07-20T00:00:00-04:00",
          "2021-07-21T00:00:00-04:00",
          "2021-07-22T00:00:00-04:00",
          "2021-07-23T00:00:00-04:00",
          "2021-07-26T00:00:00-04:00",
          "2021-07-27T00:00:00-04:00",
          "2021-07-28T00:00:00-04:00",
          "2021-07-29T00:00:00-04:00",
          "2021-07-30T00:00:00-04:00",
          "2021-08-02T00:00:00-04:00",
          "2021-08-03T00:00:00-04:00",
          "2021-08-04T00:00:00-04:00",
          "2021-08-05T00:00:00-04:00",
          "2021-08-06T00:00:00-04:00",
          "2021-08-09T00:00:00-04:00",
          "2021-08-10T00:00:00-04:00",
          "2021-08-11T00:00:00-04:00",
          "2021-08-12T00:00:00-04:00",
          "2021-08-13T00:00:00-04:00",
          "2021-08-16T00:00:00-04:00",
          "2021-08-17T00:00:00-04:00",
          "2021-08-18T00:00:00-04:00",
          "2021-08-19T00:00:00-04:00",
          "2021-08-20T00:00:00-04:00",
          "2021-08-23T00:00:00-04:00",
          "2021-08-24T00:00:00-04:00",
          "2021-08-25T00:00:00-04:00",
          "2021-08-26T00:00:00-04:00",
          "2021-08-27T00:00:00-04:00",
          "2021-08-30T00:00:00-04:00",
          "2021-08-31T00:00:00-04:00",
          "2021-09-01T00:00:00-04:00",
          "2021-09-02T00:00:00-04:00",
          "2021-09-03T00:00:00-04:00",
          "2021-09-07T00:00:00-04:00",
          "2021-09-08T00:00:00-04:00",
          "2021-09-09T00:00:00-04:00",
          "2021-09-10T00:00:00-04:00",
          "2021-09-13T00:00:00-04:00",
          "2021-09-14T00:00:00-04:00",
          "2021-09-15T00:00:00-04:00",
          "2021-09-16T00:00:00-04:00",
          "2021-09-17T00:00:00-04:00",
          "2021-09-20T00:00:00-04:00",
          "2021-09-21T00:00:00-04:00",
          "2021-09-22T00:00:00-04:00",
          "2021-09-23T00:00:00-04:00",
          "2021-09-24T00:00:00-04:00",
          "2021-09-27T00:00:00-04:00",
          "2021-09-28T00:00:00-04:00",
          "2021-09-29T00:00:00-04:00",
          "2021-09-30T00:00:00-04:00",
          "2021-10-01T00:00:00-04:00",
          "2021-10-04T00:00:00-04:00",
          "2021-10-05T00:00:00-04:00",
          "2021-10-06T00:00:00-04:00",
          "2021-10-07T00:00:00-04:00",
          "2021-10-08T00:00:00-04:00",
          "2021-10-11T00:00:00-04:00",
          "2021-10-12T00:00:00-04:00",
          "2021-10-13T00:00:00-04:00",
          "2021-10-14T00:00:00-04:00",
          "2021-10-15T00:00:00-04:00",
          "2021-10-18T00:00:00-04:00",
          "2021-10-19T00:00:00-04:00",
          "2021-10-20T00:00:00-04:00",
          "2021-10-21T00:00:00-04:00",
          "2021-10-22T00:00:00-04:00",
          "2021-10-25T00:00:00-04:00",
          "2021-10-26T00:00:00-04:00",
          "2021-10-27T00:00:00-04:00",
          "2021-10-28T00:00:00-04:00",
          "2021-10-29T00:00:00-04:00",
          "2021-11-01T00:00:00-04:00",
          "2021-11-02T00:00:00-04:00",
          "2021-11-03T00:00:00-04:00",
          "2021-11-04T00:00:00-04:00",
          "2021-11-05T00:00:00-04:00",
          "2021-11-08T00:00:00-05:00",
          "2021-11-09T00:00:00-05:00",
          "2021-11-10T00:00:00-05:00",
          "2021-11-11T00:00:00-05:00",
          "2021-11-12T00:00:00-05:00",
          "2021-11-15T00:00:00-05:00",
          "2021-11-16T00:00:00-05:00",
          "2021-11-17T00:00:00-05:00",
          "2021-11-18T00:00:00-05:00",
          "2021-11-19T00:00:00-05:00",
          "2021-11-22T00:00:00-05:00",
          "2021-11-23T00:00:00-05:00",
          "2021-11-24T00:00:00-05:00",
          "2021-11-26T00:00:00-05:00",
          "2021-11-29T00:00:00-05:00",
          "2021-11-30T00:00:00-05:00",
          "2021-12-01T00:00:00-05:00",
          "2021-12-02T00:00:00-05:00",
          "2021-12-03T00:00:00-05:00",
          "2021-12-06T00:00:00-05:00",
          "2021-12-07T00:00:00-05:00",
          "2021-12-08T00:00:00-05:00",
          "2021-12-09T00:00:00-05:00",
          "2021-12-10T00:00:00-05:00",
          "2021-12-13T00:00:00-05:00",
          "2021-12-14T00:00:00-05:00",
          "2021-12-15T00:00:00-05:00",
          "2021-12-16T00:00:00-05:00",
          "2021-12-17T00:00:00-05:00",
          "2021-12-20T00:00:00-05:00",
          "2021-12-21T00:00:00-05:00",
          "2021-12-22T00:00:00-05:00",
          "2021-12-23T00:00:00-05:00",
          "2021-12-27T00:00:00-05:00",
          "2021-12-28T00:00:00-05:00",
          "2021-12-29T00:00:00-05:00",
          "2021-12-30T00:00:00-05:00",
          "2021-12-31T00:00:00-05:00",
          "2022-01-03T00:00:00-05:00",
          "2022-01-04T00:00:00-05:00",
          "2022-01-05T00:00:00-05:00",
          "2022-01-06T00:00:00-05:00",
          "2022-01-07T00:00:00-05:00",
          "2022-01-10T00:00:00-05:00",
          "2022-01-11T00:00:00-05:00",
          "2022-01-12T00:00:00-05:00",
          "2022-01-13T00:00:00-05:00",
          "2022-01-14T00:00:00-05:00",
          "2022-01-18T00:00:00-05:00",
          "2022-01-19T00:00:00-05:00",
          "2022-01-20T00:00:00-05:00",
          "2022-01-21T00:00:00-05:00",
          "2022-01-24T00:00:00-05:00",
          "2022-01-25T00:00:00-05:00",
          "2022-01-26T00:00:00-05:00",
          "2022-01-27T00:00:00-05:00",
          "2022-01-28T00:00:00-05:00",
          "2022-01-31T00:00:00-05:00",
          "2022-02-01T00:00:00-05:00",
          "2022-02-02T00:00:00-05:00",
          "2022-02-03T00:00:00-05:00",
          "2022-02-04T00:00:00-05:00",
          "2022-02-07T00:00:00-05:00",
          "2022-02-08T00:00:00-05:00",
          "2022-02-09T00:00:00-05:00",
          "2022-02-10T00:00:00-05:00",
          "2022-02-11T00:00:00-05:00",
          "2022-02-14T00:00:00-05:00",
          "2022-02-15T00:00:00-05:00",
          "2022-02-16T00:00:00-05:00",
          "2022-02-17T00:00:00-05:00",
          "2022-02-18T00:00:00-05:00",
          "2022-02-22T00:00:00-05:00",
          "2022-02-23T00:00:00-05:00",
          "2022-02-24T00:00:00-05:00",
          "2022-02-25T00:00:00-05:00",
          "2022-02-28T00:00:00-05:00",
          "2022-03-01T00:00:00-05:00",
          "2022-03-02T00:00:00-05:00",
          "2022-03-03T00:00:00-05:00",
          "2022-03-04T00:00:00-05:00",
          "2022-03-07T00:00:00-05:00",
          "2022-03-08T00:00:00-05:00",
          "2022-03-09T00:00:00-05:00",
          "2022-03-10T00:00:00-05:00",
          "2022-03-11T00:00:00-05:00",
          "2022-03-14T00:00:00-04:00",
          "2022-03-15T00:00:00-04:00",
          "2022-03-16T00:00:00-04:00",
          "2022-03-17T00:00:00-04:00",
          "2022-03-18T00:00:00-04:00",
          "2022-03-21T00:00:00-04:00",
          "2022-03-22T00:00:00-04:00",
          "2022-03-23T00:00:00-04:00",
          "2022-03-24T00:00:00-04:00",
          "2022-03-25T00:00:00-04:00",
          "2022-03-28T00:00:00-04:00",
          "2022-03-29T00:00:00-04:00",
          "2022-03-30T00:00:00-04:00",
          "2022-03-31T00:00:00-04:00",
          "2022-04-01T00:00:00-04:00",
          "2022-04-04T00:00:00-04:00",
          "2022-04-05T00:00:00-04:00",
          "2022-04-06T00:00:00-04:00",
          "2022-04-07T00:00:00-04:00",
          "2022-04-08T00:00:00-04:00",
          "2022-04-11T00:00:00-04:00",
          "2022-04-12T00:00:00-04:00",
          "2022-04-13T00:00:00-04:00",
          "2022-04-14T00:00:00-04:00",
          "2022-04-18T00:00:00-04:00",
          "2022-04-19T00:00:00-04:00",
          "2022-04-20T00:00:00-04:00",
          "2022-04-21T00:00:00-04:00",
          "2022-04-22T00:00:00-04:00",
          "2022-04-25T00:00:00-04:00",
          "2022-04-26T00:00:00-04:00",
          "2022-04-27T00:00:00-04:00",
          "2022-04-28T00:00:00-04:00",
          "2022-04-29T00:00:00-04:00",
          "2022-05-02T00:00:00-04:00",
          "2022-05-03T00:00:00-04:00",
          "2022-05-04T00:00:00-04:00",
          "2022-05-05T00:00:00-04:00",
          "2022-05-06T00:00:00-04:00",
          "2022-05-09T00:00:00-04:00",
          "2022-05-10T00:00:00-04:00",
          "2022-05-11T00:00:00-04:00",
          "2022-05-12T00:00:00-04:00",
          "2022-05-13T00:00:00-04:00",
          "2022-05-16T00:00:00-04:00",
          "2022-05-17T00:00:00-04:00",
          "2022-05-18T00:00:00-04:00",
          "2022-05-19T00:00:00-04:00",
          "2022-05-20T00:00:00-04:00",
          "2022-05-23T00:00:00-04:00",
          "2022-05-24T00:00:00-04:00",
          "2022-05-25T00:00:00-04:00",
          "2022-05-26T00:00:00-04:00",
          "2022-05-27T00:00:00-04:00",
          "2022-05-31T00:00:00-04:00",
          "2022-06-01T00:00:00-04:00",
          "2022-06-02T00:00:00-04:00",
          "2022-06-03T00:00:00-04:00",
          "2022-06-06T00:00:00-04:00",
          "2022-06-07T00:00:00-04:00",
          "2022-06-08T00:00:00-04:00",
          "2022-06-09T00:00:00-04:00",
          "2022-06-10T00:00:00-04:00",
          "2022-06-13T00:00:00-04:00",
          "2022-06-14T00:00:00-04:00",
          "2022-06-15T00:00:00-04:00",
          "2022-06-16T00:00:00-04:00",
          "2022-06-17T00:00:00-04:00",
          "2022-06-21T00:00:00-04:00",
          "2022-06-22T00:00:00-04:00",
          "2022-06-23T00:00:00-04:00",
          "2022-06-24T00:00:00-04:00",
          "2022-06-27T00:00:00-04:00",
          "2022-06-28T00:00:00-04:00",
          "2022-06-29T00:00:00-04:00",
          "2022-06-30T00:00:00-04:00",
          "2022-07-01T00:00:00-04:00",
          "2022-07-05T00:00:00-04:00",
          "2022-07-06T00:00:00-04:00",
          "2022-07-07T00:00:00-04:00",
          "2022-07-08T00:00:00-04:00",
          "2022-07-11T00:00:00-04:00",
          "2022-07-12T00:00:00-04:00",
          "2022-07-13T00:00:00-04:00",
          "2022-07-14T00:00:00-04:00",
          "2022-07-15T00:00:00-04:00",
          "2022-07-18T00:00:00-04:00",
          "2022-07-19T00:00:00-04:00",
          "2022-07-20T00:00:00-04:00",
          "2022-07-21T00:00:00-04:00",
          "2022-07-22T00:00:00-04:00",
          "2022-07-25T00:00:00-04:00",
          "2022-07-26T00:00:00-04:00",
          "2022-07-27T00:00:00-04:00",
          "2022-07-28T00:00:00-04:00",
          "2022-07-29T00:00:00-04:00",
          "2022-08-01T00:00:00-04:00",
          "2022-08-02T00:00:00-04:00",
          "2022-08-03T00:00:00-04:00",
          "2022-08-04T00:00:00-04:00",
          "2022-08-05T00:00:00-04:00",
          "2022-08-08T00:00:00-04:00",
          "2022-08-09T00:00:00-04:00",
          "2022-08-10T00:00:00-04:00",
          "2022-08-11T00:00:00-04:00",
          "2022-08-12T00:00:00-04:00",
          "2022-08-15T00:00:00-04:00",
          "2022-08-16T00:00:00-04:00",
          "2022-08-17T00:00:00-04:00",
          "2022-08-18T00:00:00-04:00",
          "2022-08-19T00:00:00-04:00",
          "2022-08-22T00:00:00-04:00",
          "2022-08-23T00:00:00-04:00",
          "2022-08-24T00:00:00-04:00",
          "2022-08-25T00:00:00-04:00",
          "2022-08-26T00:00:00-04:00",
          "2022-08-29T00:00:00-04:00",
          "2022-08-30T00:00:00-04:00",
          "2022-08-31T00:00:00-04:00",
          "2022-09-01T00:00:00-04:00",
          "2022-09-02T00:00:00-04:00",
          "2022-09-06T00:00:00-04:00",
          "2022-09-07T00:00:00-04:00",
          "2022-09-08T00:00:00-04:00",
          "2022-09-09T00:00:00-04:00",
          "2022-09-12T00:00:00-04:00",
          "2022-09-13T00:00:00-04:00",
          "2022-09-14T00:00:00-04:00",
          "2022-09-15T00:00:00-04:00",
          "2022-09-16T00:00:00-04:00",
          "2022-09-19T00:00:00-04:00",
          "2022-09-20T00:00:00-04:00",
          "2022-09-21T00:00:00-04:00",
          "2022-09-22T00:00:00-04:00",
          "2022-09-23T00:00:00-04:00",
          "2022-09-26T00:00:00-04:00",
          "2022-09-27T00:00:00-04:00",
          "2022-09-28T00:00:00-04:00",
          "2022-09-29T00:00:00-04:00",
          "2022-09-30T00:00:00-04:00",
          "2022-10-03T00:00:00-04:00",
          "2022-10-04T00:00:00-04:00",
          "2022-10-05T00:00:00-04:00",
          "2022-10-06T00:00:00-04:00",
          "2022-10-07T00:00:00-04:00",
          "2022-10-10T00:00:00-04:00",
          "2022-10-11T00:00:00-04:00",
          "2022-10-12T00:00:00-04:00",
          "2022-10-13T00:00:00-04:00",
          "2022-10-14T00:00:00-04:00",
          "2022-10-17T00:00:00-04:00",
          "2022-10-18T00:00:00-04:00",
          "2022-10-19T00:00:00-04:00",
          "2022-10-20T00:00:00-04:00",
          "2022-10-21T00:00:00-04:00",
          "2022-10-24T00:00:00-04:00",
          "2022-10-25T00:00:00-04:00",
          "2022-10-26T00:00:00-04:00",
          "2022-10-27T00:00:00-04:00",
          "2022-10-28T00:00:00-04:00"
         ],
         "y": [
          1,
          1,
          1,
          1,
          1,
          1,
          1,
          1,
          1,
          1,
          1,
          1,
          1,
          1,
          1,
          1,
          1,
          1,
          0.9967462839467661,
          0.9967462839467661,
          0.9967462839467661,
          0.9967462839467661,
          0.9967462839467661,
          0.9967462839467661,
          0.9967462839467661,
          0.9967462839467661,
          0.9967462839467661,
          0.9967462839467661,
          0.9967462839467661,
          0.9967462839467661,
          0.9967462839467661,
          0.9967462839467661,
          0.9919802847896019,
          0.9919802847896019,
          1.003292459353292,
          1.003292459353292,
          1.003292459353292,
          1.003292459353292,
          1.003292459353292,
          1.003292459353292,
          1.003292459353292,
          1.003292459353292,
          1.003292459353292,
          1.005169609575256,
          1.005169609575256,
          1.005169609575256,
          1.005169609575256,
          1.005169609575256,
          1.005169609575256,
          1.005169609575256,
          1.005169609575256,
          1.005169609575256,
          1.005169609575256,
          1.005169609575256,
          1.005169609575256,
          1.005169609575256,
          1.005169609575256,
          1.005169609575256,
          1.005169609575256,
          1.005169609575256,
          1.010493178129546,
          1.010493178129546,
          1.010493178129546,
          1.010493178129546,
          1.010493178129546,
          1.010493178129546,
          1.010493178129546,
          1.010493178129546,
          1.010493178129546,
          1.010493178129546,
          1.010493178129546,
          1.010493178129546,
          1.010493178129546,
          1.010493178129546,
          1.010493178129546,
          1.010493178129546,
          1.010493178129546,
          1.010493178129546,
          1.010493178129546,
          1.010493178129546,
          1.010493178129546,
          1.010493178129546,
          1.010493178129546,
          1.011023068968077,
          1.011023068968077,
          1.011023068968077,
          1.011023068968077,
          1.011023068968077,
          1.011023068968077,
          1.0147739521184316,
          1.0140786828190107,
          1.0140786828190107,
          1.0140786828190107,
          1.0140786828190107,
          1.0182232931092463,
          1.0182232931092463,
          1.0182232931092463,
          1.0182232931092463,
          1.0182232931092463,
          1.0182232931092463,
          1.0182232931092463,
          1.0182232931092463,
          1.0182232931092463,
          1.0182232931092463,
          1.0182232931092463,
          1.0182232931092463,
          1.0182232931092463,
          1.0182232931092463,
          1.0182232931092463,
          1.0182232931092463,
          1.0182232931092463,
          1.0182232931092463,
          1.0182232931092463,
          1.0182232931092463,
          1.0182232931092463,
          1.0182232931092463,
          1.0182232931092463,
          1.0182232931092463,
          1.0182232931092463,
          1.016512949126517,
          1.0157340127976602,
          1.0150284859945604,
          1.0150284859945604,
          1.0150284859945604,
          1.0150284859945604,
          1.0150284859945604,
          1.0150284859945604,
          1.0150284859945604,
          1.0150284859945604,
          1.0150284859945604,
          1.0150284859945604,
          1.0150284859945604,
          1.0150284859945604,
          1.0150284859945604,
          1.0150284859945604,
          1.0150284859945604,
          1.0150284859945604,
          1.0150284859945604,
          1.0150284859945604,
          1.0150284859945604,
          1.0150284859945604,
          1.0150284859945604,
          1.0150284859945604,
          1.0150284859945604,
          1.0150284859945604,
          1.0150284859945604,
          1.0150284859945604,
          1.0150284859945604,
          1.0150525281079084,
          1.0150525281079084,
          1.012889174213457,
          1.0097422932350324,
          1.0097422932350324,
          1.0097422932350324,
          1.0097422932350324,
          1.0097422932350324,
          1.0107947636212877,
          1.0224844177856207,
          1.0224844177856207,
          1.0224844177856207,
          1.0224844177856207,
          1.0224844177856207,
          1.0205602233819866,
          1.0205602233819866,
          1.0205602233819866,
          1.0205602233819866,
          1.0205602233819866,
          1.0205602233819866,
          1.0205602233819866,
          1.0205602233819866,
          1.0205602233819866,
          1.0205602233819866,
          1.0205602233819866,
          1.0205602233819866,
          1.0205602233819866,
          1.0205602233819866,
          1.0205602233819866,
          1.0205602233819866,
          1.0188551876479053,
          1.0188551876479053,
          1.0188551876479053,
          1.0188551876479053,
          1.0188551876479053,
          1.0188551876479053,
          1.0188551876479053,
          1.0188551876479053,
          1.0188551876479053,
          1.0188551876479053,
          1.0188551876479053,
          1.0188551876479053,
          1.0188551876479053,
          1.0188551876479053,
          1.0188551876479053,
          1.0188551876479053,
          1.0188551876479053,
          1.0188551876479053,
          1.0188551876479053,
          1.0188551876479053,
          1.0188551876479053,
          1.0188551876479053,
          1.0188551876479053,
          1.0188551876479053,
          1.0188551876479053,
          1.0188551876479053,
          1.0188551876479053,
          1.0188551876479053,
          1.0168917570971803,
          1.0168917570971803,
          1.0168917570971803,
          1.0168917570971803,
          1.0168917570971803,
          1.0168917570971803,
          1.0168917570971803,
          1.0168917570971803,
          1.0168917570971803,
          1.0168917570971803,
          1.0168917570971803,
          1.013385057195086,
          1.0123584126528664,
          1.0123584126528664,
          1.0123584126528664,
          1.0123584126528664,
          1.0123584126528664,
          1.0123584126528664,
          1.0123584126528664,
          1.0123584126528664,
          1.0123584126528664,
          1.0123584126528664,
          1.0123584126528664,
          1.0123584126528664,
          1.0123584126528664,
          1.0123584126528664,
          1.0123584126528664,
          1.0123584126528664,
          1.0123584126528664,
          1.0123584126528664,
          1.0123584126528664,
          1.0123584126528664,
          1.0123584126528664,
          1.0123584126528664,
          1.0123584126528664,
          1.0123584126528664,
          1.0123584126528664,
          1.0123584126528664,
          1.0123584126528664,
          1.0123584126528664,
          1.0097667383089857,
          1.0097667383089857,
          1.0097667383089857,
          1.0063855990827748,
          1.0063855990827748,
          1.0063855990827748,
          1.0063855990827748,
          1.0063855990827748,
          1.0063855990827748,
          1.0063855990827748,
          1.0063855990827748,
          1.0063855990827748,
          1.0063855990827748,
          1.0063855990827748,
          1.0063855990827748,
          1.0063855990827748,
          1.0063855990827748,
          1.0063855990827748,
          1.0063855990827748,
          1.0063855990827748,
          1.0020929693929004,
          1.0028431001756355,
          1.0028431001756355,
          1.0028431001756355,
          1.0028431001756355,
          1.0028431001756355,
          1.0028431001756355,
          1.0023310803518757,
          1.0023310803518757,
          0.9963403684678143,
          0.9963403684678143,
          0.9963403684678143,
          0.9963403684678143,
          0.9963403684678143,
          0.9963403684678143,
          0.9963403684678143,
          0.9963403684678143,
          0.9963403684678143,
          1.0068068536268744,
          1.0068068536268744,
          1.0068068536268744,
          1.0068068536268744,
          1.0068068536268744,
          1.003683331773613,
          1.003683331773613,
          1.003683331773613,
          1.003683331773613,
          1.003683331773613,
          1.003683331773613,
          1.003683331773613,
          1.003683331773613,
          1.0047333232887226,
          1.004711830907158,
          1.004711830907158,
          1.004711830907158,
          1.004711830907158,
          1.0022161271990702,
          1.009422116485911,
          1.009422116485911,
          1.009422116485911,
          1.0049531751843686,
          1.0076300565094236,
          1.0213188345038828,
          1.0213188345038828,
          1.036010856272278,
          1.0476766875988122,
          1.0476766875988122,
          1.0476766875988122,
          1.0476766875988122,
          1.0476766875988122,
          1.0476766875988122,
          1.0482631613299365,
          1.0482631613299365,
          1.0482631613299365,
          1.0482631613299365,
          1.0482631613299365,
          1.0480531999569116,
          1.0493380514994874,
          1.060595865273322,
          1.060595865273322,
          1.060595865273322,
          1.060595865273322,
          1.060595865273322,
          1.060595865273322,
          1.0880691134564044,
          1.0880691134564044,
          1.0880691134564044,
          1.0880691134564044,
          1.0880691134564044,
          1.0880691134564044,
          1.0880691134564044,
          1.0880691134564044,
          1.0875762164495486,
          1.0875762164495486,
          1.0875762164495486,
          1.0875762164495486,
          1.0854531882695186,
          1.0854531882695186,
          1.0854531882695186,
          1.0854531882695186,
          1.0854531882695186,
          1.0854531882695186,
          1.0854531882695186,
          1.0854531882695186,
          1.0802191058292694,
          1.0802191058292694,
          1.0802191058292694,
          1.0802191058292694,
          1.0802191058292694,
          1.0802191058292694,
          1.0762248905528322,
          1.0762248905528322,
          1.0762248905528322,
          1.086103510556343,
          1.088365600350327,
          1.088365600350327,
          1.0967794101004684,
          1.0967794101004684,
          1.0967794101004684,
          1.0967794101004684,
          1.0967794101004684,
          1.0967794101004684,
          1.0967794101004684,
          1.0967794101004684,
          1.0996586723806006,
          1.0996586723806006,
          1.0996586723806006,
          1.096645950877386,
          1.096645950877386,
          1.096645950877386,
          1.0964596080408904,
          1.0964596080408904,
          1.0964596080408904,
          1.0964596080408904,
          1.0964596080408904,
          1.0964596080408904,
          1.0964596080408904,
          1.0964596080408904,
          1.105895734912908,
          1.105895734912908,
          1.105895734912908,
          1.105895734912908,
          1.105895734912908,
          1.1150395401374709,
          1.1150395401374709,
          1.124197218105648,
          1.124197218105648,
          1.128706727742614,
          1.125014100137779,
          1.125014100137779,
          1.125014100137779,
          1.125014100137779,
          1.125014100137779,
          1.125014100137779,
          1.125014100137779,
          1.125014100137779,
          1.125014100137779,
          1.125014100137779,
          1.125014100137779,
          1.153731057673172,
          1.1480392990104764,
          1.1480392990104764,
          1.1480392990104764,
          1.1480392990104764,
          1.1669610474502377,
          1.1669610474502377,
          1.1669610474502377,
          1.1669610474502377,
          1.1669610474502377,
          1.1669610474502377,
          1.165182885460073,
          1.1777433760424363,
          1.1777433760424363,
          1.1777433760424363,
          1.1777433760424363,
          1.1777433760424363,
          1.1777433760424363,
          1.1777433760424363,
          1.1777433760424363,
          1.195463741506993,
          1.195463741506993,
          1.195463741506993,
          1.205551912022505,
          1.205551912022505,
          1.205551912022505,
          1.205551912022505,
          1.205551912022505,
          1.2035380197848555,
          1.2035380197848555,
          1.1928540894918123,
          1.1928540894918123,
          1.1928540894918123,
          1.1928540894918123,
          1.1928540894918123,
          1.1928540894918123,
          1.1928540894918123,
          1.1928540894918123,
          1.1928540894918123,
          1.1928540894918123,
          1.2143999677383037,
          1.2143999677383037,
          1.2085012883203574,
          1.2085012883203574,
          1.2085012883203574,
          1.2085012883203574,
          1.2085012883203574,
          1.2085012883203574,
          1.2085012883203574,
          1.2085012883203574,
          1.2085012883203574,
          1.2085012883203574,
          1.2085012883203574,
          1.2177742431614909,
          1.2177742431614909,
          1.212514271714956,
          1.2195405156836023,
          1.2195405156836023,
          1.216773309507932,
          1.2178009376596566,
          1.2251178588836598,
          1.2251178588836598,
          1.2251178588836598,
          1.2251178588836598,
          1.2208481935094806,
          1.2208481935094806,
          1.23956204679532,
          1.23956204679532,
          1.23956204679532,
          1.2460810963414282,
          1.2487556786940213,
          1.2487556786940213,
          1.2487556786940213,
          1.261472521296426,
          1.261472521296426,
          1.261472521296426,
          1.261472521296426,
          1.261472521296426,
          1.281395428389331,
          1.281395428389331,
          1.281395428389331,
          1.281395428389331,
          1.2772629806453015,
          1.2835779815223871,
          1.2820350500145665,
          1.2820350500145665,
          1.2910730400224326,
          1.2910730400224326,
          1.3203212096869346,
          1.3203212096869346,
          1.3220052058342155,
          1.3220052058342155,
          1.3220052058342155,
          1.3222843059643254,
          1.3222843059643254,
          1.3222843059643254,
          1.322667147832228
         ]
        }
       ],
       "layout": {
        "template": {
         "data": {
          "bar": [
           {
            "error_x": {
             "color": "#2a3f5f"
            },
            "error_y": {
             "color": "#2a3f5f"
            },
            "marker": {
             "line": {
              "color": "#E5ECF6",
              "width": 0.5
             },
             "pattern": {
              "fillmode": "overlay",
              "size": 10,
              "solidity": 0.2
             }
            },
            "type": "bar"
           }
          ],
          "barpolar": [
           {
            "marker": {
             "line": {
              "color": "#E5ECF6",
              "width": 0.5
             },
             "pattern": {
              "fillmode": "overlay",
              "size": 10,
              "solidity": 0.2
             }
            },
            "type": "barpolar"
           }
          ],
          "carpet": [
           {
            "aaxis": {
             "endlinecolor": "#2a3f5f",
             "gridcolor": "white",
             "linecolor": "white",
             "minorgridcolor": "white",
             "startlinecolor": "#2a3f5f"
            },
            "baxis": {
             "endlinecolor": "#2a3f5f",
             "gridcolor": "white",
             "linecolor": "white",
             "minorgridcolor": "white",
             "startlinecolor": "#2a3f5f"
            },
            "type": "carpet"
           }
          ],
          "choropleth": [
           {
            "colorbar": {
             "outlinewidth": 0,
             "ticks": ""
            },
            "type": "choropleth"
           }
          ],
          "contour": [
           {
            "colorbar": {
             "outlinewidth": 0,
             "ticks": ""
            },
            "colorscale": [
             [
              0,
              "#0d0887"
             ],
             [
              0.1111111111111111,
              "#46039f"
             ],
             [
              0.2222222222222222,
              "#7201a8"
             ],
             [
              0.3333333333333333,
              "#9c179e"
             ],
             [
              0.4444444444444444,
              "#bd3786"
             ],
             [
              0.5555555555555556,
              "#d8576b"
             ],
             [
              0.6666666666666666,
              "#ed7953"
             ],
             [
              0.7777777777777778,
              "#fb9f3a"
             ],
             [
              0.8888888888888888,
              "#fdca26"
             ],
             [
              1,
              "#f0f921"
             ]
            ],
            "type": "contour"
           }
          ],
          "contourcarpet": [
           {
            "colorbar": {
             "outlinewidth": 0,
             "ticks": ""
            },
            "type": "contourcarpet"
           }
          ],
          "heatmap": [
           {
            "colorbar": {
             "outlinewidth": 0,
             "ticks": ""
            },
            "colorscale": [
             [
              0,
              "#0d0887"
             ],
             [
              0.1111111111111111,
              "#46039f"
             ],
             [
              0.2222222222222222,
              "#7201a8"
             ],
             [
              0.3333333333333333,
              "#9c179e"
             ],
             [
              0.4444444444444444,
              "#bd3786"
             ],
             [
              0.5555555555555556,
              "#d8576b"
             ],
             [
              0.6666666666666666,
              "#ed7953"
             ],
             [
              0.7777777777777778,
              "#fb9f3a"
             ],
             [
              0.8888888888888888,
              "#fdca26"
             ],
             [
              1,
              "#f0f921"
             ]
            ],
            "type": "heatmap"
           }
          ],
          "heatmapgl": [
           {
            "colorbar": {
             "outlinewidth": 0,
             "ticks": ""
            },
            "colorscale": [
             [
              0,
              "#0d0887"
             ],
             [
              0.1111111111111111,
              "#46039f"
             ],
             [
              0.2222222222222222,
              "#7201a8"
             ],
             [
              0.3333333333333333,
              "#9c179e"
             ],
             [
              0.4444444444444444,
              "#bd3786"
             ],
             [
              0.5555555555555556,
              "#d8576b"
             ],
             [
              0.6666666666666666,
              "#ed7953"
             ],
             [
              0.7777777777777778,
              "#fb9f3a"
             ],
             [
              0.8888888888888888,
              "#fdca26"
             ],
             [
              1,
              "#f0f921"
             ]
            ],
            "type": "heatmapgl"
           }
          ],
          "histogram": [
           {
            "marker": {
             "pattern": {
              "fillmode": "overlay",
              "size": 10,
              "solidity": 0.2
             }
            },
            "type": "histogram"
           }
          ],
          "histogram2d": [
           {
            "colorbar": {
             "outlinewidth": 0,
             "ticks": ""
            },
            "colorscale": [
             [
              0,
              "#0d0887"
             ],
             [
              0.1111111111111111,
              "#46039f"
             ],
             [
              0.2222222222222222,
              "#7201a8"
             ],
             [
              0.3333333333333333,
              "#9c179e"
             ],
             [
              0.4444444444444444,
              "#bd3786"
             ],
             [
              0.5555555555555556,
              "#d8576b"
             ],
             [
              0.6666666666666666,
              "#ed7953"
             ],
             [
              0.7777777777777778,
              "#fb9f3a"
             ],
             [
              0.8888888888888888,
              "#fdca26"
             ],
             [
              1,
              "#f0f921"
             ]
            ],
            "type": "histogram2d"
           }
          ],
          "histogram2dcontour": [
           {
            "colorbar": {
             "outlinewidth": 0,
             "ticks": ""
            },
            "colorscale": [
             [
              0,
              "#0d0887"
             ],
             [
              0.1111111111111111,
              "#46039f"
             ],
             [
              0.2222222222222222,
              "#7201a8"
             ],
             [
              0.3333333333333333,
              "#9c179e"
             ],
             [
              0.4444444444444444,
              "#bd3786"
             ],
             [
              0.5555555555555556,
              "#d8576b"
             ],
             [
              0.6666666666666666,
              "#ed7953"
             ],
             [
              0.7777777777777778,
              "#fb9f3a"
             ],
             [
              0.8888888888888888,
              "#fdca26"
             ],
             [
              1,
              "#f0f921"
             ]
            ],
            "type": "histogram2dcontour"
           }
          ],
          "mesh3d": [
           {
            "colorbar": {
             "outlinewidth": 0,
             "ticks": ""
            },
            "type": "mesh3d"
           }
          ],
          "parcoords": [
           {
            "line": {
             "colorbar": {
              "outlinewidth": 0,
              "ticks": ""
             }
            },
            "type": "parcoords"
           }
          ],
          "pie": [
           {
            "automargin": true,
            "type": "pie"
           }
          ],
          "scatter": [
           {
            "marker": {
             "colorbar": {
              "outlinewidth": 0,
              "ticks": ""
             }
            },
            "type": "scatter"
           }
          ],
          "scatter3d": [
           {
            "line": {
             "colorbar": {
              "outlinewidth": 0,
              "ticks": ""
             }
            },
            "marker": {
             "colorbar": {
              "outlinewidth": 0,
              "ticks": ""
             }
            },
            "type": "scatter3d"
           }
          ],
          "scattercarpet": [
           {
            "marker": {
             "colorbar": {
              "outlinewidth": 0,
              "ticks": ""
             }
            },
            "type": "scattercarpet"
           }
          ],
          "scattergeo": [
           {
            "marker": {
             "colorbar": {
              "outlinewidth": 0,
              "ticks": ""
             }
            },
            "type": "scattergeo"
           }
          ],
          "scattergl": [
           {
            "marker": {
             "colorbar": {
              "outlinewidth": 0,
              "ticks": ""
             }
            },
            "type": "scattergl"
           }
          ],
          "scattermapbox": [
           {
            "marker": {
             "colorbar": {
              "outlinewidth": 0,
              "ticks": ""
             }
            },
            "type": "scattermapbox"
           }
          ],
          "scatterpolar": [
           {
            "marker": {
             "colorbar": {
              "outlinewidth": 0,
              "ticks": ""
             }
            },
            "type": "scatterpolar"
           }
          ],
          "scatterpolargl": [
           {
            "marker": {
             "colorbar": {
              "outlinewidth": 0,
              "ticks": ""
             }
            },
            "type": "scatterpolargl"
           }
          ],
          "scatterternary": [
           {
            "marker": {
             "colorbar": {
              "outlinewidth": 0,
              "ticks": ""
             }
            },
            "type": "scatterternary"
           }
          ],
          "surface": [
           {
            "colorbar": {
             "outlinewidth": 0,
             "ticks": ""
            },
            "colorscale": [
             [
              0,
              "#0d0887"
             ],
             [
              0.1111111111111111,
              "#46039f"
             ],
             [
              0.2222222222222222,
              "#7201a8"
             ],
             [
              0.3333333333333333,
              "#9c179e"
             ],
             [
              0.4444444444444444,
              "#bd3786"
             ],
             [
              0.5555555555555556,
              "#d8576b"
             ],
             [
              0.6666666666666666,
              "#ed7953"
             ],
             [
              0.7777777777777778,
              "#fb9f3a"
             ],
             [
              0.8888888888888888,
              "#fdca26"
             ],
             [
              1,
              "#f0f921"
             ]
            ],
            "type": "surface"
           }
          ],
          "table": [
           {
            "cells": {
             "fill": {
              "color": "#EBF0F8"
             },
             "line": {
              "color": "white"
             }
            },
            "header": {
             "fill": {
              "color": "#C8D4E3"
             },
             "line": {
              "color": "white"
             }
            },
            "type": "table"
           }
          ]
         },
         "layout": {
          "annotationdefaults": {
           "arrowcolor": "#2a3f5f",
           "arrowhead": 0,
           "arrowwidth": 1
          },
          "autotypenumbers": "strict",
          "coloraxis": {
           "colorbar": {
            "outlinewidth": 0,
            "ticks": ""
           }
          },
          "colorscale": {
           "diverging": [
            [
             0,
             "#8e0152"
            ],
            [
             0.1,
             "#c51b7d"
            ],
            [
             0.2,
             "#de77ae"
            ],
            [
             0.3,
             "#f1b6da"
            ],
            [
             0.4,
             "#fde0ef"
            ],
            [
             0.5,
             "#f7f7f7"
            ],
            [
             0.6,
             "#e6f5d0"
            ],
            [
             0.7,
             "#b8e186"
            ],
            [
             0.8,
             "#7fbc41"
            ],
            [
             0.9,
             "#4d9221"
            ],
            [
             1,
             "#276419"
            ]
           ],
           "sequential": [
            [
             0,
             "#0d0887"
            ],
            [
             0.1111111111111111,
             "#46039f"
            ],
            [
             0.2222222222222222,
             "#7201a8"
            ],
            [
             0.3333333333333333,
             "#9c179e"
            ],
            [
             0.4444444444444444,
             "#bd3786"
            ],
            [
             0.5555555555555556,
             "#d8576b"
            ],
            [
             0.6666666666666666,
             "#ed7953"
            ],
            [
             0.7777777777777778,
             "#fb9f3a"
            ],
            [
             0.8888888888888888,
             "#fdca26"
            ],
            [
             1,
             "#f0f921"
            ]
           ],
           "sequentialminus": [
            [
             0,
             "#0d0887"
            ],
            [
             0.1111111111111111,
             "#46039f"
            ],
            [
             0.2222222222222222,
             "#7201a8"
            ],
            [
             0.3333333333333333,
             "#9c179e"
            ],
            [
             0.4444444444444444,
             "#bd3786"
            ],
            [
             0.5555555555555556,
             "#d8576b"
            ],
            [
             0.6666666666666666,
             "#ed7953"
            ],
            [
             0.7777777777777778,
             "#fb9f3a"
            ],
            [
             0.8888888888888888,
             "#fdca26"
            ],
            [
             1,
             "#f0f921"
            ]
           ]
          },
          "colorway": [
           "#636efa",
           "#EF553B",
           "#00cc96",
           "#ab63fa",
           "#FFA15A",
           "#19d3f3",
           "#FF6692",
           "#B6E880",
           "#FF97FF",
           "#FECB52"
          ],
          "font": {
           "color": "#2a3f5f"
          },
          "geo": {
           "bgcolor": "white",
           "lakecolor": "white",
           "landcolor": "#E5ECF6",
           "showlakes": true,
           "showland": true,
           "subunitcolor": "white"
          },
          "hoverlabel": {
           "align": "left"
          },
          "hovermode": "closest",
          "mapbox": {
           "style": "light"
          },
          "paper_bgcolor": "white",
          "plot_bgcolor": "#E5ECF6",
          "polar": {
           "angularaxis": {
            "gridcolor": "white",
            "linecolor": "white",
            "ticks": ""
           },
           "bgcolor": "#E5ECF6",
           "radialaxis": {
            "gridcolor": "white",
            "linecolor": "white",
            "ticks": ""
           }
          },
          "scene": {
           "xaxis": {
            "backgroundcolor": "#E5ECF6",
            "gridcolor": "white",
            "gridwidth": 2,
            "linecolor": "white",
            "showbackground": true,
            "ticks": "",
            "zerolinecolor": "white"
           },
           "yaxis": {
            "backgroundcolor": "#E5ECF6",
            "gridcolor": "white",
            "gridwidth": 2,
            "linecolor": "white",
            "showbackground": true,
            "ticks": "",
            "zerolinecolor": "white"
           },
           "zaxis": {
            "backgroundcolor": "#E5ECF6",
            "gridcolor": "white",
            "gridwidth": 2,
            "linecolor": "white",
            "showbackground": true,
            "ticks": "",
            "zerolinecolor": "white"
           }
          },
          "shapedefaults": {
           "line": {
            "color": "#2a3f5f"
           }
          },
          "ternary": {
           "aaxis": {
            "gridcolor": "white",
            "linecolor": "white",
            "ticks": ""
           },
           "baxis": {
            "gridcolor": "white",
            "linecolor": "white",
            "ticks": ""
           },
           "bgcolor": "#E5ECF6",
           "caxis": {
            "gridcolor": "white",
            "linecolor": "white",
            "ticks": ""
           }
          },
          "title": {
           "x": 0.05
          },
          "xaxis": {
           "automargin": true,
           "gridcolor": "white",
           "linecolor": "white",
           "ticks": "",
           "title": {
            "standoff": 15
           },
           "zerolinecolor": "white",
           "zerolinewidth": 2
          },
          "yaxis": {
           "automargin": true,
           "gridcolor": "white",
           "linecolor": "white",
           "ticks": "",
           "title": {
            "standoff": 15
           },
           "zerolinecolor": "white",
           "zerolinewidth": 2
          }
         }
        }
       }
      },
      "text/html": [
       "<div>                            <div id=\"74640025-f915-476d-a1b1-c82c0e79d06b\" class=\"plotly-graph-div\" style=\"height:525px; width:100%;\"></div>            <script type=\"text/javascript\">                require([\"plotly\"], function(Plotly) {                    window.PLOTLYENV=window.PLOTLYENV || {};                                    if (document.getElementById(\"74640025-f915-476d-a1b1-c82c0e79d06b\")) {                    Plotly.newPlot(                        \"74640025-f915-476d-a1b1-c82c0e79d06b\",                        [{\"marker\":{\"color\":\"Black\",\"size\":8},\"mode\":\"lines\",\"name\":\"Net Value\",\"x\":[\"2020-11-02T00:00:00-05:00\",\"2020-11-03T00:00:00-05:00\",\"2020-11-04T00:00:00-05:00\",\"2020-11-05T00:00:00-05:00\",\"2020-11-06T00:00:00-05:00\",\"2020-11-09T00:00:00-05:00\",\"2020-11-10T00:00:00-05:00\",\"2020-11-11T00:00:00-05:00\",\"2020-11-12T00:00:00-05:00\",\"2020-11-13T00:00:00-05:00\",\"2020-11-16T00:00:00-05:00\",\"2020-11-17T00:00:00-05:00\",\"2020-11-18T00:00:00-05:00\",\"2020-11-19T00:00:00-05:00\",\"2020-11-20T00:00:00-05:00\",\"2020-11-23T00:00:00-05:00\",\"2020-11-24T00:00:00-05:00\",\"2020-11-25T00:00:00-05:00\",\"2020-11-27T00:00:00-05:00\",\"2020-11-30T00:00:00-05:00\",\"2020-12-01T00:00:00-05:00\",\"2020-12-02T00:00:00-05:00\",\"2020-12-03T00:00:00-05:00\",\"2020-12-04T00:00:00-05:00\",\"2020-12-07T00:00:00-05:00\",\"2020-12-08T00:00:00-05:00\",\"2020-12-09T00:00:00-05:00\",\"2020-12-10T00:00:00-05:00\",\"2020-12-11T00:00:00-05:00\",\"2020-12-14T00:00:00-05:00\",\"2020-12-15T00:00:00-05:00\",\"2020-12-16T00:00:00-05:00\",\"2020-12-17T00:00:00-05:00\",\"2020-12-18T00:00:00-05:00\",\"2020-12-21T00:00:00-05:00\",\"2020-12-22T00:00:00-05:00\",\"2020-12-23T00:00:00-05:00\",\"2020-12-24T00:00:00-05:00\",\"2020-12-28T00:00:00-05:00\",\"2020-12-29T00:00:00-05:00\",\"2020-12-30T00:00:00-05:00\",\"2020-12-31T00:00:00-05:00\",\"2021-01-04T00:00:00-05:00\",\"2021-01-05T00:00:00-05:00\",\"2021-01-06T00:00:00-05:00\",\"2021-01-07T00:00:00-05:00\",\"2021-01-08T00:00:00-05:00\",\"2021-01-11T00:00:00-05:00\",\"2021-01-12T00:00:00-05:00\",\"2021-01-13T00:00:00-05:00\",\"2021-01-14T00:00:00-05:00\",\"2021-01-15T00:00:00-05:00\",\"2021-01-19T00:00:00-05:00\",\"2021-01-20T00:00:00-05:00\",\"2021-01-21T00:00:00-05:00\",\"2021-01-22T00:00:00-05:00\",\"2021-01-25T00:00:00-05:00\",\"2021-01-26T00:00:00-05:00\",\"2021-01-27T00:00:00-05:00\",\"2021-01-28T00:00:00-05:00\",\"2021-01-29T00:00:00-05:00\",\"2021-02-01T00:00:00-05:00\",\"2021-02-02T00:00:00-05:00\",\"2021-02-03T00:00:00-05:00\",\"2021-02-04T00:00:00-05:00\",\"2021-02-05T00:00:00-05:00\",\"2021-02-08T00:00:00-05:00\",\"2021-02-09T00:00:00-05:00\",\"2021-02-10T00:00:00-05:00\",\"2021-02-11T00:00:00-05:00\",\"2021-02-12T00:00:00-05:00\",\"2021-02-16T00:00:00-05:00\",\"2021-02-17T00:00:00-05:00\",\"2021-02-18T00:00:00-05:00\",\"2021-02-19T00:00:00-05:00\",\"2021-02-22T00:00:00-05:00\",\"2021-02-23T00:00:00-05:00\",\"2021-02-24T00:00:00-05:00\",\"2021-02-25T00:00:00-05:00\",\"2021-02-26T00:00:00-05:00\",\"2021-03-01T00:00:00-05:00\",\"2021-03-02T00:00:00-05:00\",\"2021-03-03T00:00:00-05:00\",\"2021-03-04T00:00:00-05:00\",\"2021-03-05T00:00:00-05:00\",\"2021-03-08T00:00:00-05:00\",\"2021-03-09T00:00:00-05:00\",\"2021-03-10T00:00:00-05:00\",\"2021-03-11T00:00:00-05:00\",\"2021-03-12T00:00:00-05:00\",\"2021-03-15T00:00:00-04:00\",\"2021-03-16T00:00:00-04:00\",\"2021-03-17T00:00:00-04:00\",\"2021-03-18T00:00:00-04:00\",\"2021-03-19T00:00:00-04:00\",\"2021-03-22T00:00:00-04:00\",\"2021-03-23T00:00:00-04:00\",\"2021-03-24T00:00:00-04:00\",\"2021-03-25T00:00:00-04:00\",\"2021-03-26T00:00:00-04:00\",\"2021-03-29T00:00:00-04:00\",\"2021-03-30T00:00:00-04:00\",\"2021-03-31T00:00:00-04:00\",\"2021-04-01T00:00:00-04:00\",\"2021-04-05T00:00:00-04:00\",\"2021-04-06T00:00:00-04:00\",\"2021-04-07T00:00:00-04:00\",\"2021-04-08T00:00:00-04:00\",\"2021-04-09T00:00:00-04:00\",\"2021-04-12T00:00:00-04:00\",\"2021-04-13T00:00:00-04:00\",\"2021-04-14T00:00:00-04:00\",\"2021-04-15T00:00:00-04:00\",\"2021-04-16T00:00:00-04:00\",\"2021-04-19T00:00:00-04:00\",\"2021-04-20T00:00:00-04:00\",\"2021-04-21T00:00:00-04:00\",\"2021-04-22T00:00:00-04:00\",\"2021-04-23T00:00:00-04:00\",\"2021-04-26T00:00:00-04:00\",\"2021-04-27T00:00:00-04:00\",\"2021-04-28T00:00:00-04:00\",\"2021-04-29T00:00:00-04:00\",\"2021-04-30T00:00:00-04:00\",\"2021-05-03T00:00:00-04:00\",\"2021-05-04T00:00:00-04:00\",\"2021-05-05T00:00:00-04:00\",\"2021-05-06T00:00:00-04:00\",\"2021-05-07T00:00:00-04:00\",\"2021-05-10T00:00:00-04:00\",\"2021-05-11T00:00:00-04:00\",\"2021-05-12T00:00:00-04:00\",\"2021-05-13T00:00:00-04:00\",\"2021-05-14T00:00:00-04:00\",\"2021-05-17T00:00:00-04:00\",\"2021-05-18T00:00:00-04:00\",\"2021-05-19T00:00:00-04:00\",\"2021-05-20T00:00:00-04:00\",\"2021-05-21T00:00:00-04:00\",\"2021-05-24T00:00:00-04:00\",\"2021-05-25T00:00:00-04:00\",\"2021-05-26T00:00:00-04:00\",\"2021-05-27T00:00:00-04:00\",\"2021-05-28T00:00:00-04:00\",\"2021-06-01T00:00:00-04:00\",\"2021-06-02T00:00:00-04:00\",\"2021-06-03T00:00:00-04:00\",\"2021-06-04T00:00:00-04:00\",\"2021-06-07T00:00:00-04:00\",\"2021-06-08T00:00:00-04:00\",\"2021-06-09T00:00:00-04:00\",\"2021-06-10T00:00:00-04:00\",\"2021-06-11T00:00:00-04:00\",\"2021-06-14T00:00:00-04:00\",\"2021-06-15T00:00:00-04:00\",\"2021-06-16T00:00:00-04:00\",\"2021-06-17T00:00:00-04:00\",\"2021-06-18T00:00:00-04:00\",\"2021-06-21T00:00:00-04:00\",\"2021-06-22T00:00:00-04:00\",\"2021-06-23T00:00:00-04:00\",\"2021-06-24T00:00:00-04:00\",\"2021-06-25T00:00:00-04:00\",\"2021-06-28T00:00:00-04:00\",\"2021-06-29T00:00:00-04:00\",\"2021-06-30T00:00:00-04:00\",\"2021-07-01T00:00:00-04:00\",\"2021-07-02T00:00:00-04:00\",\"2021-07-06T00:00:00-04:00\",\"2021-07-07T00:00:00-04:00\",\"2021-07-08T00:00:00-04:00\",\"2021-07-09T00:00:00-04:00\",\"2021-07-12T00:00:00-04:00\",\"2021-07-13T00:00:00-04:00\",\"2021-07-14T00:00:00-04:00\",\"2021-07-15T00:00:00-04:00\",\"2021-07-16T00:00:00-04:00\",\"2021-07-19T00:00:00-04:00\",\"2021-07-20T00:00:00-04:00\",\"2021-07-21T00:00:00-04:00\",\"2021-07-22T00:00:00-04:00\",\"2021-07-23T00:00:00-04:00\",\"2021-07-26T00:00:00-04:00\",\"2021-07-27T00:00:00-04:00\",\"2021-07-28T00:00:00-04:00\",\"2021-07-29T00:00:00-04:00\",\"2021-07-30T00:00:00-04:00\",\"2021-08-02T00:00:00-04:00\",\"2021-08-03T00:00:00-04:00\",\"2021-08-04T00:00:00-04:00\",\"2021-08-05T00:00:00-04:00\",\"2021-08-06T00:00:00-04:00\",\"2021-08-09T00:00:00-04:00\",\"2021-08-10T00:00:00-04:00\",\"2021-08-11T00:00:00-04:00\",\"2021-08-12T00:00:00-04:00\",\"2021-08-13T00:00:00-04:00\",\"2021-08-16T00:00:00-04:00\",\"2021-08-17T00:00:00-04:00\",\"2021-08-18T00:00:00-04:00\",\"2021-08-19T00:00:00-04:00\",\"2021-08-20T00:00:00-04:00\",\"2021-08-23T00:00:00-04:00\",\"2021-08-24T00:00:00-04:00\",\"2021-08-25T00:00:00-04:00\",\"2021-08-26T00:00:00-04:00\",\"2021-08-27T00:00:00-04:00\",\"2021-08-30T00:00:00-04:00\",\"2021-08-31T00:00:00-04:00\",\"2021-09-01T00:00:00-04:00\",\"2021-09-02T00:00:00-04:00\",\"2021-09-03T00:00:00-04:00\",\"2021-09-07T00:00:00-04:00\",\"2021-09-08T00:00:00-04:00\",\"2021-09-09T00:00:00-04:00\",\"2021-09-10T00:00:00-04:00\",\"2021-09-13T00:00:00-04:00\",\"2021-09-14T00:00:00-04:00\",\"2021-09-15T00:00:00-04:00\",\"2021-09-16T00:00:00-04:00\",\"2021-09-17T00:00:00-04:00\",\"2021-09-20T00:00:00-04:00\",\"2021-09-21T00:00:00-04:00\",\"2021-09-22T00:00:00-04:00\",\"2021-09-23T00:00:00-04:00\",\"2021-09-24T00:00:00-04:00\",\"2021-09-27T00:00:00-04:00\",\"2021-09-28T00:00:00-04:00\",\"2021-09-29T00:00:00-04:00\",\"2021-09-30T00:00:00-04:00\",\"2021-10-01T00:00:00-04:00\",\"2021-10-04T00:00:00-04:00\",\"2021-10-05T00:00:00-04:00\",\"2021-10-06T00:00:00-04:00\",\"2021-10-07T00:00:00-04:00\",\"2021-10-08T00:00:00-04:00\",\"2021-10-11T00:00:00-04:00\",\"2021-10-12T00:00:00-04:00\",\"2021-10-13T00:00:00-04:00\",\"2021-10-14T00:00:00-04:00\",\"2021-10-15T00:00:00-04:00\",\"2021-10-18T00:00:00-04:00\",\"2021-10-19T00:00:00-04:00\",\"2021-10-20T00:00:00-04:00\",\"2021-10-21T00:00:00-04:00\",\"2021-10-22T00:00:00-04:00\",\"2021-10-25T00:00:00-04:00\",\"2021-10-26T00:00:00-04:00\",\"2021-10-27T00:00:00-04:00\",\"2021-10-28T00:00:00-04:00\",\"2021-10-29T00:00:00-04:00\",\"2021-11-01T00:00:00-04:00\",\"2021-11-02T00:00:00-04:00\",\"2021-11-03T00:00:00-04:00\",\"2021-11-04T00:00:00-04:00\",\"2021-11-05T00:00:00-04:00\",\"2021-11-08T00:00:00-05:00\",\"2021-11-09T00:00:00-05:00\",\"2021-11-10T00:00:00-05:00\",\"2021-11-11T00:00:00-05:00\",\"2021-11-12T00:00:00-05:00\",\"2021-11-15T00:00:00-05:00\",\"2021-11-16T00:00:00-05:00\",\"2021-11-17T00:00:00-05:00\",\"2021-11-18T00:00:00-05:00\",\"2021-11-19T00:00:00-05:00\",\"2021-11-22T00:00:00-05:00\",\"2021-11-23T00:00:00-05:00\",\"2021-11-24T00:00:00-05:00\",\"2021-11-26T00:00:00-05:00\",\"2021-11-29T00:00:00-05:00\",\"2021-11-30T00:00:00-05:00\",\"2021-12-01T00:00:00-05:00\",\"2021-12-02T00:00:00-05:00\",\"2021-12-03T00:00:00-05:00\",\"2021-12-06T00:00:00-05:00\",\"2021-12-07T00:00:00-05:00\",\"2021-12-08T00:00:00-05:00\",\"2021-12-09T00:00:00-05:00\",\"2021-12-10T00:00:00-05:00\",\"2021-12-13T00:00:00-05:00\",\"2021-12-14T00:00:00-05:00\",\"2021-12-15T00:00:00-05:00\",\"2021-12-16T00:00:00-05:00\",\"2021-12-17T00:00:00-05:00\",\"2021-12-20T00:00:00-05:00\",\"2021-12-21T00:00:00-05:00\",\"2021-12-22T00:00:00-05:00\",\"2021-12-23T00:00:00-05:00\",\"2021-12-27T00:00:00-05:00\",\"2021-12-28T00:00:00-05:00\",\"2021-12-29T00:00:00-05:00\",\"2021-12-30T00:00:00-05:00\",\"2021-12-31T00:00:00-05:00\",\"2022-01-03T00:00:00-05:00\",\"2022-01-04T00:00:00-05:00\",\"2022-01-05T00:00:00-05:00\",\"2022-01-06T00:00:00-05:00\",\"2022-01-07T00:00:00-05:00\",\"2022-01-10T00:00:00-05:00\",\"2022-01-11T00:00:00-05:00\",\"2022-01-12T00:00:00-05:00\",\"2022-01-13T00:00:00-05:00\",\"2022-01-14T00:00:00-05:00\",\"2022-01-18T00:00:00-05:00\",\"2022-01-19T00:00:00-05:00\",\"2022-01-20T00:00:00-05:00\",\"2022-01-21T00:00:00-05:00\",\"2022-01-24T00:00:00-05:00\",\"2022-01-25T00:00:00-05:00\",\"2022-01-26T00:00:00-05:00\",\"2022-01-27T00:00:00-05:00\",\"2022-01-28T00:00:00-05:00\",\"2022-01-31T00:00:00-05:00\",\"2022-02-01T00:00:00-05:00\",\"2022-02-02T00:00:00-05:00\",\"2022-02-03T00:00:00-05:00\",\"2022-02-04T00:00:00-05:00\",\"2022-02-07T00:00:00-05:00\",\"2022-02-08T00:00:00-05:00\",\"2022-02-09T00:00:00-05:00\",\"2022-02-10T00:00:00-05:00\",\"2022-02-11T00:00:00-05:00\",\"2022-02-14T00:00:00-05:00\",\"2022-02-15T00:00:00-05:00\",\"2022-02-16T00:00:00-05:00\",\"2022-02-17T00:00:00-05:00\",\"2022-02-18T00:00:00-05:00\",\"2022-02-22T00:00:00-05:00\",\"2022-02-23T00:00:00-05:00\",\"2022-02-24T00:00:00-05:00\",\"2022-02-25T00:00:00-05:00\",\"2022-02-28T00:00:00-05:00\",\"2022-03-01T00:00:00-05:00\",\"2022-03-02T00:00:00-05:00\",\"2022-03-03T00:00:00-05:00\",\"2022-03-04T00:00:00-05:00\",\"2022-03-07T00:00:00-05:00\",\"2022-03-08T00:00:00-05:00\",\"2022-03-09T00:00:00-05:00\",\"2022-03-10T00:00:00-05:00\",\"2022-03-11T00:00:00-05:00\",\"2022-03-14T00:00:00-04:00\",\"2022-03-15T00:00:00-04:00\",\"2022-03-16T00:00:00-04:00\",\"2022-03-17T00:00:00-04:00\",\"2022-03-18T00:00:00-04:00\",\"2022-03-21T00:00:00-04:00\",\"2022-03-22T00:00:00-04:00\",\"2022-03-23T00:00:00-04:00\",\"2022-03-24T00:00:00-04:00\",\"2022-03-25T00:00:00-04:00\",\"2022-03-28T00:00:00-04:00\",\"2022-03-29T00:00:00-04:00\",\"2022-03-30T00:00:00-04:00\",\"2022-03-31T00:00:00-04:00\",\"2022-04-01T00:00:00-04:00\",\"2022-04-04T00:00:00-04:00\",\"2022-04-05T00:00:00-04:00\",\"2022-04-06T00:00:00-04:00\",\"2022-04-07T00:00:00-04:00\",\"2022-04-08T00:00:00-04:00\",\"2022-04-11T00:00:00-04:00\",\"2022-04-12T00:00:00-04:00\",\"2022-04-13T00:00:00-04:00\",\"2022-04-14T00:00:00-04:00\",\"2022-04-18T00:00:00-04:00\",\"2022-04-19T00:00:00-04:00\",\"2022-04-20T00:00:00-04:00\",\"2022-04-21T00:00:00-04:00\",\"2022-04-22T00:00:00-04:00\",\"2022-04-25T00:00:00-04:00\",\"2022-04-26T00:00:00-04:00\",\"2022-04-27T00:00:00-04:00\",\"2022-04-28T00:00:00-04:00\",\"2022-04-29T00:00:00-04:00\",\"2022-05-02T00:00:00-04:00\",\"2022-05-03T00:00:00-04:00\",\"2022-05-04T00:00:00-04:00\",\"2022-05-05T00:00:00-04:00\",\"2022-05-06T00:00:00-04:00\",\"2022-05-09T00:00:00-04:00\",\"2022-05-10T00:00:00-04:00\",\"2022-05-11T00:00:00-04:00\",\"2022-05-12T00:00:00-04:00\",\"2022-05-13T00:00:00-04:00\",\"2022-05-16T00:00:00-04:00\",\"2022-05-17T00:00:00-04:00\",\"2022-05-18T00:00:00-04:00\",\"2022-05-19T00:00:00-04:00\",\"2022-05-20T00:00:00-04:00\",\"2022-05-23T00:00:00-04:00\",\"2022-05-24T00:00:00-04:00\",\"2022-05-25T00:00:00-04:00\",\"2022-05-26T00:00:00-04:00\",\"2022-05-27T00:00:00-04:00\",\"2022-05-31T00:00:00-04:00\",\"2022-06-01T00:00:00-04:00\",\"2022-06-02T00:00:00-04:00\",\"2022-06-03T00:00:00-04:00\",\"2022-06-06T00:00:00-04:00\",\"2022-06-07T00:00:00-04:00\",\"2022-06-08T00:00:00-04:00\",\"2022-06-09T00:00:00-04:00\",\"2022-06-10T00:00:00-04:00\",\"2022-06-13T00:00:00-04:00\",\"2022-06-14T00:00:00-04:00\",\"2022-06-15T00:00:00-04:00\",\"2022-06-16T00:00:00-04:00\",\"2022-06-17T00:00:00-04:00\",\"2022-06-21T00:00:00-04:00\",\"2022-06-22T00:00:00-04:00\",\"2022-06-23T00:00:00-04:00\",\"2022-06-24T00:00:00-04:00\",\"2022-06-27T00:00:00-04:00\",\"2022-06-28T00:00:00-04:00\",\"2022-06-29T00:00:00-04:00\",\"2022-06-30T00:00:00-04:00\",\"2022-07-01T00:00:00-04:00\",\"2022-07-05T00:00:00-04:00\",\"2022-07-06T00:00:00-04:00\",\"2022-07-07T00:00:00-04:00\",\"2022-07-08T00:00:00-04:00\",\"2022-07-11T00:00:00-04:00\",\"2022-07-12T00:00:00-04:00\",\"2022-07-13T00:00:00-04:00\",\"2022-07-14T00:00:00-04:00\",\"2022-07-15T00:00:00-04:00\",\"2022-07-18T00:00:00-04:00\",\"2022-07-19T00:00:00-04:00\",\"2022-07-20T00:00:00-04:00\",\"2022-07-21T00:00:00-04:00\",\"2022-07-22T00:00:00-04:00\",\"2022-07-25T00:00:00-04:00\",\"2022-07-26T00:00:00-04:00\",\"2022-07-27T00:00:00-04:00\",\"2022-07-28T00:00:00-04:00\",\"2022-07-29T00:00:00-04:00\",\"2022-08-01T00:00:00-04:00\",\"2022-08-02T00:00:00-04:00\",\"2022-08-03T00:00:00-04:00\",\"2022-08-04T00:00:00-04:00\",\"2022-08-05T00:00:00-04:00\",\"2022-08-08T00:00:00-04:00\",\"2022-08-09T00:00:00-04:00\",\"2022-08-10T00:00:00-04:00\",\"2022-08-11T00:00:00-04:00\",\"2022-08-12T00:00:00-04:00\",\"2022-08-15T00:00:00-04:00\",\"2022-08-16T00:00:00-04:00\",\"2022-08-17T00:00:00-04:00\",\"2022-08-18T00:00:00-04:00\",\"2022-08-19T00:00:00-04:00\",\"2022-08-22T00:00:00-04:00\",\"2022-08-23T00:00:00-04:00\",\"2022-08-24T00:00:00-04:00\",\"2022-08-25T00:00:00-04:00\",\"2022-08-26T00:00:00-04:00\",\"2022-08-29T00:00:00-04:00\",\"2022-08-30T00:00:00-04:00\",\"2022-08-31T00:00:00-04:00\",\"2022-09-01T00:00:00-04:00\",\"2022-09-02T00:00:00-04:00\",\"2022-09-06T00:00:00-04:00\",\"2022-09-07T00:00:00-04:00\",\"2022-09-08T00:00:00-04:00\",\"2022-09-09T00:00:00-04:00\",\"2022-09-12T00:00:00-04:00\",\"2022-09-13T00:00:00-04:00\",\"2022-09-14T00:00:00-04:00\",\"2022-09-15T00:00:00-04:00\",\"2022-09-16T00:00:00-04:00\",\"2022-09-19T00:00:00-04:00\",\"2022-09-20T00:00:00-04:00\",\"2022-09-21T00:00:00-04:00\",\"2022-09-22T00:00:00-04:00\",\"2022-09-23T00:00:00-04:00\",\"2022-09-26T00:00:00-04:00\",\"2022-09-27T00:00:00-04:00\",\"2022-09-28T00:00:00-04:00\",\"2022-09-29T00:00:00-04:00\",\"2022-09-30T00:00:00-04:00\",\"2022-10-03T00:00:00-04:00\",\"2022-10-04T00:00:00-04:00\",\"2022-10-05T00:00:00-04:00\",\"2022-10-06T00:00:00-04:00\",\"2022-10-07T00:00:00-04:00\",\"2022-10-10T00:00:00-04:00\",\"2022-10-11T00:00:00-04:00\",\"2022-10-12T00:00:00-04:00\",\"2022-10-13T00:00:00-04:00\",\"2022-10-14T00:00:00-04:00\",\"2022-10-17T00:00:00-04:00\",\"2022-10-18T00:00:00-04:00\",\"2022-10-19T00:00:00-04:00\",\"2022-10-20T00:00:00-04:00\",\"2022-10-21T00:00:00-04:00\",\"2022-10-24T00:00:00-04:00\",\"2022-10-25T00:00:00-04:00\",\"2022-10-26T00:00:00-04:00\",\"2022-10-27T00:00:00-04:00\",\"2022-10-28T00:00:00-04:00\"],\"y\":[1.0,1.0,1.0,1.0,1.0,1.0,1.0,1.0,1.0,1.0,1.0,1.0,1.0,1.0,1.0,1.0,1.0,1.0,0.9967462839467661,0.9967462839467661,0.9967462839467661,0.9967462839467661,0.9967462839467661,0.9967462839467661,0.9967462839467661,0.9967462839467661,0.9967462839467661,0.9967462839467661,0.9967462839467661,0.9967462839467661,0.9967462839467661,0.9967462839467661,0.9919802847896019,0.9919802847896019,1.003292459353292,1.003292459353292,1.003292459353292,1.003292459353292,1.003292459353292,1.003292459353292,1.003292459353292,1.003292459353292,1.003292459353292,1.005169609575256,1.005169609575256,1.005169609575256,1.005169609575256,1.005169609575256,1.005169609575256,1.005169609575256,1.005169609575256,1.005169609575256,1.005169609575256,1.005169609575256,1.005169609575256,1.005169609575256,1.005169609575256,1.005169609575256,1.005169609575256,1.005169609575256,1.010493178129546,1.010493178129546,1.010493178129546,1.010493178129546,1.010493178129546,1.010493178129546,1.010493178129546,1.010493178129546,1.010493178129546,1.010493178129546,1.010493178129546,1.010493178129546,1.010493178129546,1.010493178129546,1.010493178129546,1.010493178129546,1.010493178129546,1.010493178129546,1.010493178129546,1.010493178129546,1.010493178129546,1.010493178129546,1.010493178129546,1.011023068968077,1.011023068968077,1.011023068968077,1.011023068968077,1.011023068968077,1.011023068968077,1.0147739521184316,1.0140786828190107,1.0140786828190107,1.0140786828190107,1.0140786828190107,1.0182232931092463,1.0182232931092463,1.0182232931092463,1.0182232931092463,1.0182232931092463,1.0182232931092463,1.0182232931092463,1.0182232931092463,1.0182232931092463,1.0182232931092463,1.0182232931092463,1.0182232931092463,1.0182232931092463,1.0182232931092463,1.0182232931092463,1.0182232931092463,1.0182232931092463,1.0182232931092463,1.0182232931092463,1.0182232931092463,1.0182232931092463,1.0182232931092463,1.0182232931092463,1.0182232931092463,1.0182232931092463,1.016512949126517,1.0157340127976602,1.0150284859945604,1.0150284859945604,1.0150284859945604,1.0150284859945604,1.0150284859945604,1.0150284859945604,1.0150284859945604,1.0150284859945604,1.0150284859945604,1.0150284859945604,1.0150284859945604,1.0150284859945604,1.0150284859945604,1.0150284859945604,1.0150284859945604,1.0150284859945604,1.0150284859945604,1.0150284859945604,1.0150284859945604,1.0150284859945604,1.0150284859945604,1.0150284859945604,1.0150284859945604,1.0150284859945604,1.0150284859945604,1.0150284859945604,1.0150284859945604,1.0150525281079084,1.0150525281079084,1.012889174213457,1.0097422932350324,1.0097422932350324,1.0097422932350324,1.0097422932350324,1.0097422932350324,1.0107947636212877,1.0224844177856207,1.0224844177856207,1.0224844177856207,1.0224844177856207,1.0224844177856207,1.0205602233819866,1.0205602233819866,1.0205602233819866,1.0205602233819866,1.0205602233819866,1.0205602233819866,1.0205602233819866,1.0205602233819866,1.0205602233819866,1.0205602233819866,1.0205602233819866,1.0205602233819866,1.0205602233819866,1.0205602233819866,1.0205602233819866,1.0205602233819866,1.0188551876479053,1.0188551876479053,1.0188551876479053,1.0188551876479053,1.0188551876479053,1.0188551876479053,1.0188551876479053,1.0188551876479053,1.0188551876479053,1.0188551876479053,1.0188551876479053,1.0188551876479053,1.0188551876479053,1.0188551876479053,1.0188551876479053,1.0188551876479053,1.0188551876479053,1.0188551876479053,1.0188551876479053,1.0188551876479053,1.0188551876479053,1.0188551876479053,1.0188551876479053,1.0188551876479053,1.0188551876479053,1.0188551876479053,1.0188551876479053,1.0188551876479053,1.0168917570971803,1.0168917570971803,1.0168917570971803,1.0168917570971803,1.0168917570971803,1.0168917570971803,1.0168917570971803,1.0168917570971803,1.0168917570971803,1.0168917570971803,1.0168917570971803,1.013385057195086,1.0123584126528664,1.0123584126528664,1.0123584126528664,1.0123584126528664,1.0123584126528664,1.0123584126528664,1.0123584126528664,1.0123584126528664,1.0123584126528664,1.0123584126528664,1.0123584126528664,1.0123584126528664,1.0123584126528664,1.0123584126528664,1.0123584126528664,1.0123584126528664,1.0123584126528664,1.0123584126528664,1.0123584126528664,1.0123584126528664,1.0123584126528664,1.0123584126528664,1.0123584126528664,1.0123584126528664,1.0123584126528664,1.0123584126528664,1.0123584126528664,1.0123584126528664,1.0097667383089857,1.0097667383089857,1.0097667383089857,1.0063855990827748,1.0063855990827748,1.0063855990827748,1.0063855990827748,1.0063855990827748,1.0063855990827748,1.0063855990827748,1.0063855990827748,1.0063855990827748,1.0063855990827748,1.0063855990827748,1.0063855990827748,1.0063855990827748,1.0063855990827748,1.0063855990827748,1.0063855990827748,1.0063855990827748,1.0020929693929004,1.0028431001756355,1.0028431001756355,1.0028431001756355,1.0028431001756355,1.0028431001756355,1.0028431001756355,1.0023310803518757,1.0023310803518757,0.9963403684678143,0.9963403684678143,0.9963403684678143,0.9963403684678143,0.9963403684678143,0.9963403684678143,0.9963403684678143,0.9963403684678143,0.9963403684678143,1.0068068536268744,1.0068068536268744,1.0068068536268744,1.0068068536268744,1.0068068536268744,1.003683331773613,1.003683331773613,1.003683331773613,1.003683331773613,1.003683331773613,1.003683331773613,1.003683331773613,1.003683331773613,1.0047333232887226,1.004711830907158,1.004711830907158,1.004711830907158,1.004711830907158,1.0022161271990702,1.009422116485911,1.009422116485911,1.009422116485911,1.0049531751843686,1.0076300565094236,1.0213188345038828,1.0213188345038828,1.036010856272278,1.0476766875988122,1.0476766875988122,1.0476766875988122,1.0476766875988122,1.0476766875988122,1.0476766875988122,1.0482631613299365,1.0482631613299365,1.0482631613299365,1.0482631613299365,1.0482631613299365,1.0480531999569116,1.0493380514994874,1.060595865273322,1.060595865273322,1.060595865273322,1.060595865273322,1.060595865273322,1.060595865273322,1.0880691134564044,1.0880691134564044,1.0880691134564044,1.0880691134564044,1.0880691134564044,1.0880691134564044,1.0880691134564044,1.0880691134564044,1.0875762164495486,1.0875762164495486,1.0875762164495486,1.0875762164495486,1.0854531882695186,1.0854531882695186,1.0854531882695186,1.0854531882695186,1.0854531882695186,1.0854531882695186,1.0854531882695186,1.0854531882695186,1.0802191058292694,1.0802191058292694,1.0802191058292694,1.0802191058292694,1.0802191058292694,1.0802191058292694,1.0762248905528322,1.0762248905528322,1.0762248905528322,1.086103510556343,1.088365600350327,1.088365600350327,1.0967794101004684,1.0967794101004684,1.0967794101004684,1.0967794101004684,1.0967794101004684,1.0967794101004684,1.0967794101004684,1.0967794101004684,1.0996586723806006,1.0996586723806006,1.0996586723806006,1.096645950877386,1.096645950877386,1.096645950877386,1.0964596080408904,1.0964596080408904,1.0964596080408904,1.0964596080408904,1.0964596080408904,1.0964596080408904,1.0964596080408904,1.0964596080408904,1.105895734912908,1.105895734912908,1.105895734912908,1.105895734912908,1.105895734912908,1.1150395401374709,1.1150395401374709,1.124197218105648,1.124197218105648,1.128706727742614,1.125014100137779,1.125014100137779,1.125014100137779,1.125014100137779,1.125014100137779,1.125014100137779,1.125014100137779,1.125014100137779,1.125014100137779,1.125014100137779,1.125014100137779,1.153731057673172,1.1480392990104764,1.1480392990104764,1.1480392990104764,1.1480392990104764,1.1669610474502377,1.1669610474502377,1.1669610474502377,1.1669610474502377,1.1669610474502377,1.1669610474502377,1.165182885460073,1.1777433760424363,1.1777433760424363,1.1777433760424363,1.1777433760424363,1.1777433760424363,1.1777433760424363,1.1777433760424363,1.1777433760424363,1.195463741506993,1.195463741506993,1.195463741506993,1.205551912022505,1.205551912022505,1.205551912022505,1.205551912022505,1.205551912022505,1.2035380197848555,1.2035380197848555,1.1928540894918123,1.1928540894918123,1.1928540894918123,1.1928540894918123,1.1928540894918123,1.1928540894918123,1.1928540894918123,1.1928540894918123,1.1928540894918123,1.1928540894918123,1.2143999677383037,1.2143999677383037,1.2085012883203574,1.2085012883203574,1.2085012883203574,1.2085012883203574,1.2085012883203574,1.2085012883203574,1.2085012883203574,1.2085012883203574,1.2085012883203574,1.2085012883203574,1.2085012883203574,1.2177742431614909,1.2177742431614909,1.212514271714956,1.2195405156836023,1.2195405156836023,1.216773309507932,1.2178009376596566,1.2251178588836598,1.2251178588836598,1.2251178588836598,1.2251178588836598,1.2208481935094806,1.2208481935094806,1.23956204679532,1.23956204679532,1.23956204679532,1.2460810963414282,1.2487556786940213,1.2487556786940213,1.2487556786940213,1.261472521296426,1.261472521296426,1.261472521296426,1.261472521296426,1.261472521296426,1.281395428389331,1.281395428389331,1.281395428389331,1.281395428389331,1.2772629806453015,1.2835779815223871,1.2820350500145665,1.2820350500145665,1.2910730400224326,1.2910730400224326,1.3203212096869346,1.3203212096869346,1.3220052058342155,1.3220052058342155,1.3220052058342155,1.3222843059643254,1.3222843059643254,1.3222843059643254,1.322667147832228],\"type\":\"scatter\"}],                        {\"template\":{\"data\":{\"bar\":[{\"error_x\":{\"color\":\"#2a3f5f\"},\"error_y\":{\"color\":\"#2a3f5f\"},\"marker\":{\"line\":{\"color\":\"#E5ECF6\",\"width\":0.5},\"pattern\":{\"fillmode\":\"overlay\",\"size\":10,\"solidity\":0.2}},\"type\":\"bar\"}],\"barpolar\":[{\"marker\":{\"line\":{\"color\":\"#E5ECF6\",\"width\":0.5},\"pattern\":{\"fillmode\":\"overlay\",\"size\":10,\"solidity\":0.2}},\"type\":\"barpolar\"}],\"carpet\":[{\"aaxis\":{\"endlinecolor\":\"#2a3f5f\",\"gridcolor\":\"white\",\"linecolor\":\"white\",\"minorgridcolor\":\"white\",\"startlinecolor\":\"#2a3f5f\"},\"baxis\":{\"endlinecolor\":\"#2a3f5f\",\"gridcolor\":\"white\",\"linecolor\":\"white\",\"minorgridcolor\":\"white\",\"startlinecolor\":\"#2a3f5f\"},\"type\":\"carpet\"}],\"choropleth\":[{\"colorbar\":{\"outlinewidth\":0,\"ticks\":\"\"},\"type\":\"choropleth\"}],\"contour\":[{\"colorbar\":{\"outlinewidth\":0,\"ticks\":\"\"},\"colorscale\":[[0.0,\"#0d0887\"],[0.1111111111111111,\"#46039f\"],[0.2222222222222222,\"#7201a8\"],[0.3333333333333333,\"#9c179e\"],[0.4444444444444444,\"#bd3786\"],[0.5555555555555556,\"#d8576b\"],[0.6666666666666666,\"#ed7953\"],[0.7777777777777778,\"#fb9f3a\"],[0.8888888888888888,\"#fdca26\"],[1.0,\"#f0f921\"]],\"type\":\"contour\"}],\"contourcarpet\":[{\"colorbar\":{\"outlinewidth\":0,\"ticks\":\"\"},\"type\":\"contourcarpet\"}],\"heatmap\":[{\"colorbar\":{\"outlinewidth\":0,\"ticks\":\"\"},\"colorscale\":[[0.0,\"#0d0887\"],[0.1111111111111111,\"#46039f\"],[0.2222222222222222,\"#7201a8\"],[0.3333333333333333,\"#9c179e\"],[0.4444444444444444,\"#bd3786\"],[0.5555555555555556,\"#d8576b\"],[0.6666666666666666,\"#ed7953\"],[0.7777777777777778,\"#fb9f3a\"],[0.8888888888888888,\"#fdca26\"],[1.0,\"#f0f921\"]],\"type\":\"heatmap\"}],\"heatmapgl\":[{\"colorbar\":{\"outlinewidth\":0,\"ticks\":\"\"},\"colorscale\":[[0.0,\"#0d0887\"],[0.1111111111111111,\"#46039f\"],[0.2222222222222222,\"#7201a8\"],[0.3333333333333333,\"#9c179e\"],[0.4444444444444444,\"#bd3786\"],[0.5555555555555556,\"#d8576b\"],[0.6666666666666666,\"#ed7953\"],[0.7777777777777778,\"#fb9f3a\"],[0.8888888888888888,\"#fdca26\"],[1.0,\"#f0f921\"]],\"type\":\"heatmapgl\"}],\"histogram\":[{\"marker\":{\"pattern\":{\"fillmode\":\"overlay\",\"size\":10,\"solidity\":0.2}},\"type\":\"histogram\"}],\"histogram2d\":[{\"colorbar\":{\"outlinewidth\":0,\"ticks\":\"\"},\"colorscale\":[[0.0,\"#0d0887\"],[0.1111111111111111,\"#46039f\"],[0.2222222222222222,\"#7201a8\"],[0.3333333333333333,\"#9c179e\"],[0.4444444444444444,\"#bd3786\"],[0.5555555555555556,\"#d8576b\"],[0.6666666666666666,\"#ed7953\"],[0.7777777777777778,\"#fb9f3a\"],[0.8888888888888888,\"#fdca26\"],[1.0,\"#f0f921\"]],\"type\":\"histogram2d\"}],\"histogram2dcontour\":[{\"colorbar\":{\"outlinewidth\":0,\"ticks\":\"\"},\"colorscale\":[[0.0,\"#0d0887\"],[0.1111111111111111,\"#46039f\"],[0.2222222222222222,\"#7201a8\"],[0.3333333333333333,\"#9c179e\"],[0.4444444444444444,\"#bd3786\"],[0.5555555555555556,\"#d8576b\"],[0.6666666666666666,\"#ed7953\"],[0.7777777777777778,\"#fb9f3a\"],[0.8888888888888888,\"#fdca26\"],[1.0,\"#f0f921\"]],\"type\":\"histogram2dcontour\"}],\"mesh3d\":[{\"colorbar\":{\"outlinewidth\":0,\"ticks\":\"\"},\"type\":\"mesh3d\"}],\"parcoords\":[{\"line\":{\"colorbar\":{\"outlinewidth\":0,\"ticks\":\"\"}},\"type\":\"parcoords\"}],\"pie\":[{\"automargin\":true,\"type\":\"pie\"}],\"scatter\":[{\"marker\":{\"colorbar\":{\"outlinewidth\":0,\"ticks\":\"\"}},\"type\":\"scatter\"}],\"scatter3d\":[{\"line\":{\"colorbar\":{\"outlinewidth\":0,\"ticks\":\"\"}},\"marker\":{\"colorbar\":{\"outlinewidth\":0,\"ticks\":\"\"}},\"type\":\"scatter3d\"}],\"scattercarpet\":[{\"marker\":{\"colorbar\":{\"outlinewidth\":0,\"ticks\":\"\"}},\"type\":\"scattercarpet\"}],\"scattergeo\":[{\"marker\":{\"colorbar\":{\"outlinewidth\":0,\"ticks\":\"\"}},\"type\":\"scattergeo\"}],\"scattergl\":[{\"marker\":{\"colorbar\":{\"outlinewidth\":0,\"ticks\":\"\"}},\"type\":\"scattergl\"}],\"scattermapbox\":[{\"marker\":{\"colorbar\":{\"outlinewidth\":0,\"ticks\":\"\"}},\"type\":\"scattermapbox\"}],\"scatterpolar\":[{\"marker\":{\"colorbar\":{\"outlinewidth\":0,\"ticks\":\"\"}},\"type\":\"scatterpolar\"}],\"scatterpolargl\":[{\"marker\":{\"colorbar\":{\"outlinewidth\":0,\"ticks\":\"\"}},\"type\":\"scatterpolargl\"}],\"scatterternary\":[{\"marker\":{\"colorbar\":{\"outlinewidth\":0,\"ticks\":\"\"}},\"type\":\"scatterternary\"}],\"surface\":[{\"colorbar\":{\"outlinewidth\":0,\"ticks\":\"\"},\"colorscale\":[[0.0,\"#0d0887\"],[0.1111111111111111,\"#46039f\"],[0.2222222222222222,\"#7201a8\"],[0.3333333333333333,\"#9c179e\"],[0.4444444444444444,\"#bd3786\"],[0.5555555555555556,\"#d8576b\"],[0.6666666666666666,\"#ed7953\"],[0.7777777777777778,\"#fb9f3a\"],[0.8888888888888888,\"#fdca26\"],[1.0,\"#f0f921\"]],\"type\":\"surface\"}],\"table\":[{\"cells\":{\"fill\":{\"color\":\"#EBF0F8\"},\"line\":{\"color\":\"white\"}},\"header\":{\"fill\":{\"color\":\"#C8D4E3\"},\"line\":{\"color\":\"white\"}},\"type\":\"table\"}]},\"layout\":{\"annotationdefaults\":{\"arrowcolor\":\"#2a3f5f\",\"arrowhead\":0,\"arrowwidth\":1},\"autotypenumbers\":\"strict\",\"coloraxis\":{\"colorbar\":{\"outlinewidth\":0,\"ticks\":\"\"}},\"colorscale\":{\"diverging\":[[0,\"#8e0152\"],[0.1,\"#c51b7d\"],[0.2,\"#de77ae\"],[0.3,\"#f1b6da\"],[0.4,\"#fde0ef\"],[0.5,\"#f7f7f7\"],[0.6,\"#e6f5d0\"],[0.7,\"#b8e186\"],[0.8,\"#7fbc41\"],[0.9,\"#4d9221\"],[1,\"#276419\"]],\"sequential\":[[0.0,\"#0d0887\"],[0.1111111111111111,\"#46039f\"],[0.2222222222222222,\"#7201a8\"],[0.3333333333333333,\"#9c179e\"],[0.4444444444444444,\"#bd3786\"],[0.5555555555555556,\"#d8576b\"],[0.6666666666666666,\"#ed7953\"],[0.7777777777777778,\"#fb9f3a\"],[0.8888888888888888,\"#fdca26\"],[1.0,\"#f0f921\"]],\"sequentialminus\":[[0.0,\"#0d0887\"],[0.1111111111111111,\"#46039f\"],[0.2222222222222222,\"#7201a8\"],[0.3333333333333333,\"#9c179e\"],[0.4444444444444444,\"#bd3786\"],[0.5555555555555556,\"#d8576b\"],[0.6666666666666666,\"#ed7953\"],[0.7777777777777778,\"#fb9f3a\"],[0.8888888888888888,\"#fdca26\"],[1.0,\"#f0f921\"]]},\"colorway\":[\"#636efa\",\"#EF553B\",\"#00cc96\",\"#ab63fa\",\"#FFA15A\",\"#19d3f3\",\"#FF6692\",\"#B6E880\",\"#FF97FF\",\"#FECB52\"],\"font\":{\"color\":\"#2a3f5f\"},\"geo\":{\"bgcolor\":\"white\",\"lakecolor\":\"white\",\"landcolor\":\"#E5ECF6\",\"showlakes\":true,\"showland\":true,\"subunitcolor\":\"white\"},\"hoverlabel\":{\"align\":\"left\"},\"hovermode\":\"closest\",\"mapbox\":{\"style\":\"light\"},\"paper_bgcolor\":\"white\",\"plot_bgcolor\":\"#E5ECF6\",\"polar\":{\"angularaxis\":{\"gridcolor\":\"white\",\"linecolor\":\"white\",\"ticks\":\"\"},\"bgcolor\":\"#E5ECF6\",\"radialaxis\":{\"gridcolor\":\"white\",\"linecolor\":\"white\",\"ticks\":\"\"}},\"scene\":{\"xaxis\":{\"backgroundcolor\":\"#E5ECF6\",\"gridcolor\":\"white\",\"gridwidth\":2,\"linecolor\":\"white\",\"showbackground\":true,\"ticks\":\"\",\"zerolinecolor\":\"white\"},\"yaxis\":{\"backgroundcolor\":\"#E5ECF6\",\"gridcolor\":\"white\",\"gridwidth\":2,\"linecolor\":\"white\",\"showbackground\":true,\"ticks\":\"\",\"zerolinecolor\":\"white\"},\"zaxis\":{\"backgroundcolor\":\"#E5ECF6\",\"gridcolor\":\"white\",\"gridwidth\":2,\"linecolor\":\"white\",\"showbackground\":true,\"ticks\":\"\",\"zerolinecolor\":\"white\"}},\"shapedefaults\":{\"line\":{\"color\":\"#2a3f5f\"}},\"ternary\":{\"aaxis\":{\"gridcolor\":\"white\",\"linecolor\":\"white\",\"ticks\":\"\"},\"baxis\":{\"gridcolor\":\"white\",\"linecolor\":\"white\",\"ticks\":\"\"},\"bgcolor\":\"#E5ECF6\",\"caxis\":{\"gridcolor\":\"white\",\"linecolor\":\"white\",\"ticks\":\"\"}},\"title\":{\"x\":0.05},\"xaxis\":{\"automargin\":true,\"gridcolor\":\"white\",\"linecolor\":\"white\",\"ticks\":\"\",\"title\":{\"standoff\":15},\"zerolinecolor\":\"white\",\"zerolinewidth\":2},\"yaxis\":{\"automargin\":true,\"gridcolor\":\"white\",\"linecolor\":\"white\",\"ticks\":\"\",\"title\":{\"standoff\":15},\"zerolinecolor\":\"white\",\"zerolinewidth\":2}}}},                        {\"responsive\": true}                    ).then(function(){\n",
       "                            \n",
       "var gd = document.getElementById('74640025-f915-476d-a1b1-c82c0e79d06b');\n",
       "var x = new MutationObserver(function (mutations, observer) {{\n",
       "        var display = window.getComputedStyle(gd).display;\n",
       "        if (!display || display === 'none') {{\n",
       "            console.log([gd, 'removed!']);\n",
       "            Plotly.purge(gd);\n",
       "            observer.disconnect();\n",
       "        }}\n",
       "}});\n",
       "\n",
       "// Listen for the removal of the full notebook cells\n",
       "var notebookContainer = gd.closest('#notebook-container');\n",
       "if (notebookContainer) {{\n",
       "    x.observe(notebookContainer, {childList: true});\n",
       "}}\n",
       "\n",
       "// Listen for the clearing of the current output cell\n",
       "var outputEl = gd.closest('.output');\n",
       "if (outputEl) {{\n",
       "    x.observe(outputEl, {childList: true});\n",
       "}}\n",
       "\n",
       "                        })                };                });            </script>        </div>"
      ]
     },
     "metadata": {},
     "output_type": "display_data"
    }
   ],
   "source": [
    "fig =go.Figure()\n",
    "fig.add_trace(go.Scatter(x = df_rtn['Date'] , y = df_rtn['netvalue'] ,mode = \"lines\",\n",
    "                         marker = dict(size = 8 , color = \"Black\"), name = \"Net Value\"))\n",
    "fig.show()"
   ]
  }
 ],
 "metadata": {
  "colab": {
   "provenance": []
  },
  "kernelspec": {
   "display_name": "Python 3 (ipykernel)",
   "language": "python",
   "name": "python3"
  },
  "language_info": {
   "codemirror_mode": {
    "name": "ipython",
    "version": 3
   },
   "file_extension": ".py",
   "mimetype": "text/x-python",
   "name": "python",
   "nbconvert_exporter": "python",
   "pygments_lexer": "ipython3",
   "version": "3.8.12"
  }
 },
 "nbformat": 4,
 "nbformat_minor": 1
}
